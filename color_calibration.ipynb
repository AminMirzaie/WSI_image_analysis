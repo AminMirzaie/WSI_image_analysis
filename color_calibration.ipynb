{
 "cells": [
  {
   "cell_type": "code",
   "execution_count": null,
   "id": "0085d0f9-9096-45dc-9aee-05a70a303327",
   "metadata": {},
   "outputs": [],
   "source": [
    "import numpy as np\n",
    "import matplotlib.pyplot as plt\n",
    "from skimage.io import imread, imshow\n",
    "from skimage.color import rgb2hsv, rgb2gray, rgb2yuv\n",
    "from skimage import color, exposure, transform\n",
    "from skimage.exposure import equalize_hist\n",
    "import cv2\n",
    "import os\n",
    "from scipy import fftpack\n",
    "from skimage.transform import warp\n",
    "from skimage import io\n",
    "from image_registration import chi2_shift\n",
    "import skimage\n",
    "import image_registration\n",
    "import tifffile\n",
    "import time\n",
    "import concurrent.futures\n",
    "import skimage\n",
    "import image_registration\n",
    "from PIL import Image\n",
    "from plantcv import plantcv as pcv\n",
    "import glob"
   ]
  },
  {
   "cell_type": "markdown",
   "id": "b45c4dff-bfa4-4913-8c7b-71f9a1cf485e",
   "metadata": {},
   "source": [
    "#### input: (real image directory,our whole slide image directory,two homography matrix) \n",
    "#### output:(transformation matrix that save in some directory,card_directory)"
   ]
  },
  {
   "cell_type": "code",
   "execution_count": 210,
   "id": "5342793a-6f50-44ad-9adf-a3471217c55d",
   "metadata": {},
   "outputs": [],
   "source": [
    "BR_h = np.loadtxt(\"/home/humangene/share/303_5/BR_h.txt\")\n",
    "GR_h = np.loadtxt(\"/home/humangene/share/303_5/GR_h.txt\")\n",
    "real_image_directory = \"../color/\"\n",
    "wsi_directory = \"/home/humangene/share/NEW_IR_color/\"\n",
    "background_directory = \"/home/humangene/share/NEW_IR_color/bg/\"\n",
    "card_directory = \"../cards/\"\n",
    "thread_num = 20\n",
    "color_names = [\"bg\"]+[str(x) for x in range(1,11)]"
   ]
  },
  {
   "cell_type": "code",
   "execution_count": 2,
   "id": "ba82b9ff-da0c-493c-91d6-6519dc547ebb",
   "metadata": {},
   "outputs": [],
   "source": [
    "def align_channel(chanel,M):\n",
    "    a = skimage.transform.SimilarityTransform(matrix=M)\n",
    "    return np.ma.array(warp(chanel, a, preserve_range=True,output_shape=chanel.shape, cval=-1)) \n",
    "def homography_calculator(template,moving):\n",
    "    sr = StackReg(StackReg.AFFINE)\n",
    "    moving_homography = sr.register(template,moving)\n",
    "    return moving_homography\n",
    "\n",
    "def generateCoefficents():\n",
    "    base_folder = background_directory\n",
    "    R = (cv2.imread(base_folder+\"_cR.tif\",cv2.IMREAD_UNCHANGED)[:,:-10])\n",
    "    G = (cv2.imread(base_folder+\"_cG.tif\",cv2.IMREAD_UNCHANGED)[:,:-10])\n",
    "    B = (cv2.imread(base_folder+\"_cB.tif\",cv2.IMREAD_UNCHANGED)[:,:-10])\n",
    "    coeficients = []\n",
    "    ref_mean = 50000\n",
    "    coeficients.append((1/np.mean(R,axis=0))*ref_mean)\n",
    "    coeficients.append((1/np.mean(G,axis=0))*ref_mean)\n",
    "    coeficients.append((1/np.mean(B,axis=0))*ref_mean)\n",
    "    return coeficients\n",
    "\n",
    "def clipper(channel):\n",
    "    a = np.quantile(channel,0.01)\n",
    "    b = np.quantile(channel,0.99)\n",
    "    return np.clip(channel,a,b)\n",
    "def rescale(channel):\n",
    "    return channel*(255.0/pow(2,16)) \n",
    "\n",
    "BR_h = np.loadtxt(\"/home/humangene/share/303_5/\"+\"BR_h.txt\")\n",
    "GR_h = np.loadtxt(\"/home/humangene/share/303_5/\"+\"GR_h.txt\")"
   ]
  },
  {
   "cell_type": "code",
   "execution_count": 190,
   "id": "593baef2-5b79-4574-b102-edae150f0f03",
   "metadata": {},
   "outputs": [
    {
     "name": "stdout",
     "output_type": "stream",
     "text": [
      "processing wsi colors:\n",
      "bg\n",
      "time: 3.8407558479811996\n",
      "1\n",
      "0\n",
      "1\n",
      "2\n",
      "01\n",
      "\n"
     ]
    },
    {
     "name": "stderr",
     "output_type": "stream",
     "text": [
      "/opt/anaconda/lib/python3.9/site-packages/image_registration/fft_tools/convolve_nd.py:269: FutureWarning: Using a non-tuple sequence for multidimensional indexing is deprecated; use `arr[tuple(seq)]` instead of `arr[seq]`. In the future this will be interpreted as an array index, `arr[np.array(seq)]`, which will result either in an error or a different result.\n",
      "/opt/anaconda/lib/python3.9/site-packages/image_registration/fft_tools/convolve_nd.py:270: FutureWarning: Using a non-tuple sequence for multidimensional indexing is deprecated; use `arr[tuple(seq)]` instead of `arr[seq]`. In the future this will be interpreted as an array index, `arr[np.array(seq)]`, which will result either in an error or a different result.\n",
      "/opt/anaconda/lib/python3.9/site-packages/image_registration/fft_tools/convolve_nd.py:325: FutureWarning: Using a non-tuple sequence for multidimensional indexing is deprecated; use `arr[tuple(seq)]` instead of `arr[seq]`. In the future this will be interpreted as an array index, `arr[np.array(seq)]`, which will result either in an error or a different result.\n",
      "/opt/anaconda/lib/python3.9/site-packages/image_registration/fft_tools/zoom.py:101: FutureWarning: Using a non-tuple sequence for multidimensional indexing is deprecated; use `arr[tuple(seq)]` instead of `arr[seq]`. In the future this will be interpreted as an array index, `arr[np.array(seq)]`, which will result either in an error or a different result.\n"
     ]
    },
    {
     "name": "stdout",
     "output_type": "stream",
     "text": [
      "35.349609375 -15.591796875\n",
      "40.021484375 -16.119140625\n",
      "2\n",
      "1\n",
      "0\n",
      "time: 5.827992095029913\n",
      "2\n",
      "01\n",
      "\n",
      "2\n",
      "3\n"
     ]
    },
    {
     "ename": "KeyboardInterrupt",
     "evalue": "",
     "output_type": "error",
     "traceback": [
      "\u001b[0;31m---------------------------------------------------------------------------\u001b[0m",
      "\u001b[0;31mKeyboardInterrupt\u001b[0m                         Traceback (most recent call last)",
      "\u001b[0;32m/tmp/ipykernel_665585/1267929827.py\u001b[0m in \u001b[0;36m<cell line: 3>\u001b[0;34m()\u001b[0m\n\u001b[1;32m     37\u001b[0m \u001b[0;34m\u001b[0m\u001b[0m\n\u001b[1;32m     38\u001b[0m         \u001b[0;32mwith\u001b[0m \u001b[0mconcurrent\u001b[0m\u001b[0;34m.\u001b[0m\u001b[0mfutures\u001b[0m\u001b[0;34m.\u001b[0m\u001b[0mThreadPoolExecutor\u001b[0m\u001b[0;34m(\u001b[0m\u001b[0mmax_workers\u001b[0m\u001b[0;34m=\u001b[0m\u001b[0;36m10\u001b[0m\u001b[0;34m)\u001b[0m \u001b[0;32mas\u001b[0m \u001b[0mexecutor\u001b[0m\u001b[0;34m:\u001b[0m\u001b[0;34m\u001b[0m\u001b[0;34m\u001b[0m\u001b[0m\n\u001b[0;32m---> 39\u001b[0;31m             \u001b[0mresults\u001b[0m \u001b[0;34m=\u001b[0m \u001b[0mexecutor\u001b[0m\u001b[0;34m.\u001b[0m\u001b[0mmap\u001b[0m\u001b[0;34m(\u001b[0m\u001b[0mreading_images\u001b[0m\u001b[0;34m,\u001b[0m\u001b[0mimg_nums\u001b[0m\u001b[0;34m)\u001b[0m\u001b[0;34m\u001b[0m\u001b[0;34m\u001b[0m\u001b[0m\n\u001b[0m\u001b[1;32m     40\u001b[0m         \u001b[0mconcurrent\u001b[0m\u001b[0;34m.\u001b[0m\u001b[0mfutures\u001b[0m\u001b[0;34m.\u001b[0m\u001b[0mas_completed\u001b[0m\u001b[0;34m(\u001b[0m\u001b[0mresults\u001b[0m\u001b[0;34m)\u001b[0m\u001b[0;34m\u001b[0m\u001b[0;34m\u001b[0m\u001b[0m\n\u001b[1;32m     41\u001b[0m \u001b[0;34m\u001b[0m\u001b[0m\n",
      "\u001b[0;32m/opt/anaconda/lib/python3.9/concurrent/futures/_base.py\u001b[0m in \u001b[0;36m__exit__\u001b[0;34m(self, exc_type, exc_val, exc_tb)\u001b[0m\n\u001b[1;32m    635\u001b[0m \u001b[0;34m\u001b[0m\u001b[0m\n\u001b[1;32m    636\u001b[0m     \u001b[0;32mdef\u001b[0m \u001b[0m__exit__\u001b[0m\u001b[0;34m(\u001b[0m\u001b[0mself\u001b[0m\u001b[0;34m,\u001b[0m \u001b[0mexc_type\u001b[0m\u001b[0;34m,\u001b[0m \u001b[0mexc_val\u001b[0m\u001b[0;34m,\u001b[0m \u001b[0mexc_tb\u001b[0m\u001b[0;34m)\u001b[0m\u001b[0;34m:\u001b[0m\u001b[0;34m\u001b[0m\u001b[0;34m\u001b[0m\u001b[0m\n\u001b[0;32m--> 637\u001b[0;31m         \u001b[0mself\u001b[0m\u001b[0;34m.\u001b[0m\u001b[0mshutdown\u001b[0m\u001b[0;34m(\u001b[0m\u001b[0mwait\u001b[0m\u001b[0;34m=\u001b[0m\u001b[0;32mTrue\u001b[0m\u001b[0;34m)\u001b[0m\u001b[0;34m\u001b[0m\u001b[0;34m\u001b[0m\u001b[0m\n\u001b[0m\u001b[1;32m    638\u001b[0m         \u001b[0;32mreturn\u001b[0m \u001b[0;32mFalse\u001b[0m\u001b[0;34m\u001b[0m\u001b[0;34m\u001b[0m\u001b[0m\n\u001b[1;32m    639\u001b[0m \u001b[0;34m\u001b[0m\u001b[0m\n",
      "\u001b[0;32m/opt/anaconda/lib/python3.9/concurrent/futures/thread.py\u001b[0m in \u001b[0;36mshutdown\u001b[0;34m(self, wait, cancel_futures)\u001b[0m\n\u001b[1;32m    233\u001b[0m         \u001b[0;32mif\u001b[0m \u001b[0mwait\u001b[0m\u001b[0;34m:\u001b[0m\u001b[0;34m\u001b[0m\u001b[0;34m\u001b[0m\u001b[0m\n\u001b[1;32m    234\u001b[0m             \u001b[0;32mfor\u001b[0m \u001b[0mt\u001b[0m \u001b[0;32min\u001b[0m \u001b[0mself\u001b[0m\u001b[0;34m.\u001b[0m\u001b[0m_threads\u001b[0m\u001b[0;34m:\u001b[0m\u001b[0;34m\u001b[0m\u001b[0;34m\u001b[0m\u001b[0m\n\u001b[0;32m--> 235\u001b[0;31m                 \u001b[0mt\u001b[0m\u001b[0;34m.\u001b[0m\u001b[0mjoin\u001b[0m\u001b[0;34m(\u001b[0m\u001b[0;34m)\u001b[0m\u001b[0;34m\u001b[0m\u001b[0;34m\u001b[0m\u001b[0m\n\u001b[0m\u001b[1;32m    236\u001b[0m     \u001b[0mshutdown\u001b[0m\u001b[0;34m.\u001b[0m\u001b[0m__doc__\u001b[0m \u001b[0;34m=\u001b[0m \u001b[0m_base\u001b[0m\u001b[0;34m.\u001b[0m\u001b[0mExecutor\u001b[0m\u001b[0;34m.\u001b[0m\u001b[0mshutdown\u001b[0m\u001b[0;34m.\u001b[0m\u001b[0m__doc__\u001b[0m\u001b[0;34m\u001b[0m\u001b[0;34m\u001b[0m\u001b[0m\n",
      "\u001b[0;32m/opt/anaconda/lib/python3.9/threading.py\u001b[0m in \u001b[0;36mjoin\u001b[0;34m(self, timeout)\u001b[0m\n\u001b[1;32m   1051\u001b[0m \u001b[0;34m\u001b[0m\u001b[0m\n\u001b[1;32m   1052\u001b[0m         \u001b[0;32mif\u001b[0m \u001b[0mtimeout\u001b[0m \u001b[0;32mis\u001b[0m \u001b[0;32mNone\u001b[0m\u001b[0;34m:\u001b[0m\u001b[0;34m\u001b[0m\u001b[0;34m\u001b[0m\u001b[0m\n\u001b[0;32m-> 1053\u001b[0;31m             \u001b[0mself\u001b[0m\u001b[0;34m.\u001b[0m\u001b[0m_wait_for_tstate_lock\u001b[0m\u001b[0;34m(\u001b[0m\u001b[0;34m)\u001b[0m\u001b[0;34m\u001b[0m\u001b[0;34m\u001b[0m\u001b[0m\n\u001b[0m\u001b[1;32m   1054\u001b[0m         \u001b[0;32melse\u001b[0m\u001b[0;34m:\u001b[0m\u001b[0;34m\u001b[0m\u001b[0;34m\u001b[0m\u001b[0m\n\u001b[1;32m   1055\u001b[0m             \u001b[0;31m# the behavior of a negative timeout isn't documented, but\u001b[0m\u001b[0;34m\u001b[0m\u001b[0;34m\u001b[0m\u001b[0m\n",
      "\u001b[0;32m/opt/anaconda/lib/python3.9/threading.py\u001b[0m in \u001b[0;36m_wait_for_tstate_lock\u001b[0;34m(self, block, timeout)\u001b[0m\n\u001b[1;32m   1071\u001b[0m \u001b[0;34m\u001b[0m\u001b[0m\n\u001b[1;32m   1072\u001b[0m         \u001b[0;32mtry\u001b[0m\u001b[0;34m:\u001b[0m\u001b[0;34m\u001b[0m\u001b[0;34m\u001b[0m\u001b[0m\n\u001b[0;32m-> 1073\u001b[0;31m             \u001b[0;32mif\u001b[0m \u001b[0mlock\u001b[0m\u001b[0;34m.\u001b[0m\u001b[0macquire\u001b[0m\u001b[0;34m(\u001b[0m\u001b[0mblock\u001b[0m\u001b[0;34m,\u001b[0m \u001b[0mtimeout\u001b[0m\u001b[0;34m)\u001b[0m\u001b[0;34m:\u001b[0m\u001b[0;34m\u001b[0m\u001b[0;34m\u001b[0m\u001b[0m\n\u001b[0m\u001b[1;32m   1074\u001b[0m                 \u001b[0mlock\u001b[0m\u001b[0;34m.\u001b[0m\u001b[0mrelease\u001b[0m\u001b[0;34m(\u001b[0m\u001b[0;34m)\u001b[0m\u001b[0;34m\u001b[0m\u001b[0;34m\u001b[0m\u001b[0m\n\u001b[1;32m   1075\u001b[0m                 \u001b[0mself\u001b[0m\u001b[0;34m.\u001b[0m\u001b[0m_stop\u001b[0m\u001b[0;34m(\u001b[0m\u001b[0;34m)\u001b[0m\u001b[0;34m\u001b[0m\u001b[0;34m\u001b[0m\u001b[0m\n",
      "\u001b[0;31mKeyboardInterrupt\u001b[0m: "
     ]
    }
   ],
   "source": [
    "print(\"processing wsi colors:\")\n",
    "color_means = {}\n",
    "for color in color_names:\n",
    "    print(color)\n",
    "    t1 = time.perf_counter()\n",
    "    base_folder = wsi_directory+color+\"/\"\n",
    "    if not(color == \"bg\"):\n",
    "        t1 = time.perf_counter()\n",
    "        num_lines = len(glob.glob(base_folder+\"*.tif\"))//3\n",
    "        coefs = generateCoefficents()\n",
    "        images = {}\n",
    "        img_nums = list(range(num_lines))\n",
    "        coefs = generateCoefficents()\n",
    "        def reading_images(img_num):\n",
    "            print(img_num)\n",
    "            R = clipper(cv2.imread(base_folder+\"line_\"+str(img_num)+\"_c1.tif\",cv2.IMREAD_UNCHANGED)[:,:-10])\n",
    "            G = clipper(cv2.imread(base_folder+\"line_\"+str(img_num)+\"_c2.tif\",cv2.IMREAD_UNCHANGED)[:,:-10])\n",
    "            B = clipper(cv2.imread(base_folder+\"line_\"+str(img_num)+\"_c3.tif\",cv2.IMREAD_UNCHANGED)[:,:-10])\n",
    "            R_e = rescale(R*coefs[0])\n",
    "            G_e = align_channel(rescale(G*coefs[1]),GR_h)\n",
    "            B_e = align_channel(rescale(B*coefs[2]),BR_h)\n",
    "            images[img_num] =np.clip(\n",
    "                 cv2.merge([\n",
    "                 (R_e/np.mean(R_e,axis=0))*np.mean(R_e),\n",
    "                 (G_e/np.mean(G_e,axis=0))*np.mean(G_e),\n",
    "                 (B_e/np.mean(B_e,axis=0))*np.mean(B_e)\n",
    "                ]),0,255).astype(\"uint8\")[5:-5,5:-10]\n",
    "\n",
    "            del(R)\n",
    "            del(G)\n",
    "            del(B)\n",
    "            del(R_e)\n",
    "            del(G_e)\n",
    "            del(B_e)\n",
    "            gc.collect()\n",
    "            return img_num\n",
    "        \n",
    "        with concurrent.futures.ThreadPoolExecutor(max_workers=10) as executor:\n",
    "            results = executor.map(reading_images,img_nums)\n",
    "        concurrent.futures.as_completed(results)\n",
    "        \n",
    "        line_shifts = {}\n",
    "        img_nums = list(range(num_lines-1))\n",
    "        def process_image(img_num):\n",
    "            print(img_num)\n",
    "            right_image = images[img_num]\n",
    "            left_image = images[img_num+1]\n",
    "            min_row = min(right_image.shape[0],left_image.shape[0])\n",
    "            min_col = min(right_image.shape[1],left_image.shape[1])\n",
    "            right_image_c = right_image[:min_row,:300]\n",
    "            left_image_c = left_image[:min_row,-300:]\n",
    "            im1 = cv2.cvtColor(left_image_c, cv2.COLOR_BGR2GRAY)\n",
    "            im2 = cv2.cvtColor(right_image_c, cv2.COLOR_BGR2GRAY)\n",
    "            yoff,xoff ,yer,xer= image_registration.chi2_shift(im1,im2,0.1)\n",
    "            print(yoff,xoff)\n",
    "            if yoff > 30  and xoff<0:  \n",
    "                line_shifts[(img_num,img_num+1)] = (int(yoff),int(-1*xoff))\n",
    "        with concurrent.futures.ThreadPoolExecutor(max_workers = 20) as executor:\n",
    "            results = list(executor.map(process_image,img_nums))\n",
    "        concurrent.futures.as_completed(results)\n",
    "        \n",
    "        if len(line_shifts.keys())>0:  \n",
    "            ysum = 0\n",
    "            xsum = 0\n",
    "            for key in line_shifts.keys():\n",
    "                ysum+=line_shifts[key][0]\n",
    "                xsum+=line_shifts[key][1]\n",
    "            y_m = ysum//len(line_shifts.keys())\n",
    "            x_m = xsum//len(line_shifts.keys())\n",
    "            for i in range(num_lines - 1):\n",
    "                if not((i,i+1) in line_shifts.keys()):\n",
    "                    line_shifts[(i,i+1)] = (y_m,x_m)\n",
    "        else:\n",
    "            for i in range(num_lines - 1):\n",
    "                line_shifts[(i,i+1)] = (0,0)\n",
    "        sum_x = 0\n",
    "        sum_y = 0\n",
    "        for key , value in line_shifts.items():\n",
    "            sum_x+=value[1]\n",
    "            sum_y+=value[0]               \n",
    "                \n",
    "        valid_list = []\n",
    "        for key , value in line_shifts.items():\n",
    "            valid_list.append(key[1])\n",
    "        yoff_sum = 0\n",
    "        xoff_sum = 0\n",
    "        tempelate = images[0]\n",
    "        max_tot_row = tempelate.shape[0]\n",
    "        max_tot_col = tempelate.shape[1]\n",
    "        for val in line_shifts.values():\n",
    "            yoff_sum+=val[0]\n",
    "            xoff_sum+=val[1]\n",
    "        img_shape = (max_tot_row,max_tot_col,3)\n",
    "        mid = (int(img_shape[0]/2),int(img_shape[1]/2))\n",
    "        row_numbers = img_shape[0]\n",
    "        tot = np.zeros((row_numbers+xoff_sum,img_shape[1]*num_lines - yoff_sum,3),dtype = np.uint8)\n",
    "        last_row_index = tot.shape[0]\n",
    "        last_col_index = tot.shape[1] \n",
    "        valid_range = [last_row_index,last_row_index]\n",
    "        for i in range(num_lines):\n",
    "            indx = num_lines - i-1\n",
    "            print(indx)\n",
    "            if i in valid_list:\n",
    "                middle_img = images[i]\n",
    "                img_shape = (middle_img.shape[0],middle_img.shape[1],3)\n",
    "                row_numbers = middle_img.shape[0]\n",
    "                yshift,xshift = line_shifts[(i - 1,i)]\n",
    "                tot[last_row_index-row_numbers - xshift:last_row_index-xshift,last_col_index-img_shape[1]+yshift:last_col_index+yshift,:] = middle_img\n",
    "                valid_range[0] = last_row_index-row_numbers\n",
    "                valid_range[1] = last_row_index+xshift\n",
    "                last_row_index = last_row_index-xshift\n",
    "                last_col_index = last_col_index-img_shape[1]+yshift\n",
    "            else:\n",
    "                middle_img = images[i]\n",
    "                tot[last_row_index-middle_img.shape[0]:last_row_index,last_col_index-middle_img.shape[1]:last_col_index,:] = middle_img\n",
    "                valid_range[0] = last_row_index-middle_img.shape[0]\n",
    "                valid_range[1] = last_row_index\n",
    "\n",
    "                last_row_index = last_row_index\n",
    "                last_col_index = last_col_index - middle_img.shape[1]\n",
    "        tifffile.imwrite(\"/home/humangene/Desktop/tt/\"+color+\".png\",tot)\n",
    "        middle = tot.shape[0]//2,tot.shape[1]//2\n",
    "        color_means[color] = np.mean(tot[middle[0] - tot.shape[0]//3:middle[0]+tot.shape[0]//3, middle[1]-tot.shape[1]//3:middle[1]+tot.shape[1]//3],axis=(0,1))\n",
    "    else:\n",
    "        num_lines = 1\n",
    "        coefs = generateCoefficents()\n",
    "        images = {}\n",
    "        img_nums = list(range(num_lines))\n",
    "        def reading_images(img_num):\n",
    "            R = cv2.imread(base_folder+\"BG_cR.tif\",cv2.IMREAD_UNCHANGED)[:,:-10]\n",
    "            G = cv2.imread(base_folder+\"BG_cG.tif\",cv2.IMREAD_UNCHANGED)[:,:-10]\n",
    "            B = cv2.imread(base_folder+\"BG_cB.tif\",cv2.IMREAD_UNCHANGED)[:,:-10]\n",
    "            R_e = rescale(R*coefs[0])\n",
    "            G_e = align_channel(rescale(G*coefs[1]),GR_h)\n",
    "            B_e = align_channel(rescale(B*coefs[2]),BR_h)\n",
    "            images[img_num] =np.clip(\n",
    "                 cv2.merge([\n",
    "                 (R_e/np.mean(R_e,axis=0))*np.mean(R_e),\n",
    "                 (G_e/np.mean(G_e,axis=0))*np.mean(G_e),\n",
    "                 (B_e/np.mean(B_e,axis=0))*np.mean(B_e)\n",
    "                ]),0,255).astype(\"uint8\")[5:-5,5:-10]\n",
    "\n",
    "            del(R)\n",
    "            del(G)\n",
    "            del(B)\n",
    "            del(R_e)\n",
    "            del(G_e)\n",
    "            del(B_e)\n",
    "            gc.collect()\n",
    "            return img_num\n",
    "        with concurrent.futures.ThreadPoolExecutor(max_workers=thread_num) as executor:\n",
    "            results = executor.map(reading_images,img_nums)\n",
    "        concurrent.futures.as_completed(results)\n",
    "        tot = images[0]\n",
    "        middle = tot.shape[0]//2,tot.shape[1]//2\n",
    "        tifffile.imwrite(\"/home/humangene/Desktop/tt/\"+color+\".png\",tot)\n",
    "        color_means[color] = np.mean(tot[middle[0] - tot.shape[0]//3:middle[0]+tot.shape[0]//3, middle[1]-tot.shape[1]//3:middle[1]+tot.shape[1]//3],axis=(0,1))\n",
    "    t2 = time.perf_counter()\n",
    "    print(\"time: \"+str(t2 - t1))\n",
    "print(\"processing real color:\")\n",
    "rcolor_means = {}\n",
    "for color in color_names:\n",
    "    t1 = time.perf_counter()\n",
    "    tot = tifffile.imread(real_image_directory+color+\".tif\")\n",
    "    middle = tot.shape[0]//2,tot.shape[1]//2\n",
    "    rcolor_means[color] = np.mean(tot[middle[0] - tot.shape[0]//3:middle[0]+tot.shape[0]//3, middle[1]-tot.shape[1]//3:middle[1]+tot.shape[1]//3],axis=(0,1))\n",
    "    t2 = time.perf_counter()\n",
    "    print(t2-t1)"
   ]
  },
  {
   "cell_type": "code",
   "execution_count": 40,
   "id": "70fa421a-bdd2-42f6-b946-b68a46853d4c",
   "metadata": {},
   "outputs": [
    {
     "name": "stdout",
     "output_type": "stream",
     "text": [
      "creating the cards:\n",
      "0.0753302329685539\n"
     ]
    }
   ],
   "source": [
    "print(\"creating the cards:\")\n",
    "t1 = time.perf_counter()\n",
    "n = len(color_names)\n",
    "tile_size = 256\n",
    "space = 100\n",
    "row_size = n*tile_size + (n+1)*space\n",
    "col_size = tile_size +space\n",
    "real_card = (np.ones((row_size,col_size,3))*255).astype(\"uint8\")\n",
    "wsi_card = (np.ones((row_size,col_size,3))*255).astype(\"uint8\")\n",
    "mask = (np.zeros((row_size,col_size))).astype(\"uint8\")\n",
    "count = 0\n",
    "for color in color_names:\n",
    "    start_row = ((count+1)*space)+(count*tile_size)\n",
    "    start_col = 50\n",
    "    real_card[start_row:start_row+tile_size,start_col:start_col+tile_size,:] = rcolor_means[color]\n",
    "    wsi_card[start_row:start_row+tile_size,start_col:start_col+tile_size,:] = color_means[color]\n",
    "    mask[start_row:start_row+tile_size,start_col:start_col+tile_size] = count+1\n",
    "    count+=1\n",
    "tifffile.imwrite(card_directory+\"real.png\",real_card.astype(\"uint8\"))\n",
    "tifffile.imwrite(card_directory+\"source.png\",wsi_card.astype(\"uint8\"))\n",
    "tifffile.imwrite(card_directory+\"mask.png\",mask.astype(\"uint8\"))\n",
    "t2 = time.perf_counter()\n",
    "print(t2 - t1)"
   ]
  },
  {
   "cell_type": "code",
   "execution_count": 212,
   "id": "41c58d3b-db54-4084-b9c3-67a0dccdd7de",
   "metadata": {},
   "outputs": [],
   "source": [
    "real_card = tifffile.imread(card_directory+\"real.png\")\n",
    "wsi_card = tifffile.imread(card_directory+\"source.png\")\n",
    "mask = tifffile.imread(card_directory+\"mask.png\")"
   ]
  },
  {
   "cell_type": "code",
   "execution_count": 213,
   "id": "61c9cb6a-438f-4f4d-888a-f271997fa544",
   "metadata": {},
   "outputs": [],
   "source": [
    "def get_color_matrix(rgb_img, mask):\n",
    "    if len(np.shape(rgb_img)) != 3:\n",
    "        fatal_error(\"Input rgb_img is not an RGB image.\")\n",
    "    if len(np.shape(mask)) != 2:\n",
    "        fatal_error(\"Input mask is not an gray-scale image.\")\n",
    "    img_dtype = rgb_img.dtype\n",
    "    max_val = 1.0\n",
    "    if img_dtype.kind == 'u':\n",
    "        max_val = np.iinfo(img_dtype).max\n",
    "    rgb_img = rgb_img.astype(np.float64)/max_val\n",
    "    color_matrix = np.zeros((len(np.unique(mask))-1, 4))\n",
    "    headers = [\"chip_number\", \"r_avg\", \"g_avg\", \"b_avg\"]\n",
    "    row_counter = 0\n",
    "    for i in np.unique(mask):\n",
    "        if i != 0:\n",
    "            chip = rgb_img[np.where(mask == i)]\n",
    "            color_matrix[row_counter][0] = i\n",
    "            color_matrix[row_counter][1] = np.mean(chip[:, 2])\n",
    "            color_matrix[row_counter][2] = np.mean(chip[:, 1])\n",
    "            color_matrix[row_counter][3] = np.mean(chip[:, 0])\n",
    "            row_counter += 1\n",
    "    return headers, color_matrix\n",
    "def get_matrix_m(target_matrix, source_matrix):\n",
    "    t_cc, t_r, t_g, t_b = np.split(target_matrix, 4, 1)\n",
    "    s_cc, s_r, s_g, s_b = np.split(source_matrix, 4, 1)\n",
    "\n",
    "    # create matrix_a\n",
    "    ones = np.ones_like(s_b)\n",
    "    matrix_a = np.concatenate((s_r, s_g, s_b,ones), 1)\n",
    "    matrix_m = np.linalg.solve(np.matmul(matrix_a.T, matrix_a), matrix_a.T)\n",
    "    matrix_b = np.concatenate((t_r,t_g, t_b), 1)\n",
    "    return matrix_a, matrix_m, matrix_b\n",
    "\n",
    "\n",
    "def calc_transformation_matrix(matrix_m, matrix_b):\n",
    "    t_r, t_g, t_b = np.split(matrix_b, 3, 1)\n",
    "\n",
    "    # multiply each 22x1 matrix from target color space by matrix_m\n",
    "    transformation_matrix = np.matmul(matrix_m, matrix_b)\n",
    "    return transformation_matrix\n",
    "\n",
    "def apply_transformation_matrix(source_img, transformation_matrix):\n",
    "\n",
    "    red, green, blue = np.split(transformation_matrix, 3, 1)\n",
    "    source_dtype = source_img.dtype\n",
    "    # normalization value as max number if the type is unsigned int\n",
    "    max_val = 1.0\n",
    "    if source_dtype.kind == 'u':\n",
    "        max_val = np.iinfo(source_dtype).max\n",
    "    # convert img to float to avoid integer overflow, normalize between 0-1\n",
    "    source_flt = source_img.astype(np.float64)/max_val\n",
    "    # find linear, square, and cubic values of source_img color channels\n",
    "    source_b, source_g, source_r = cv2.split(source_flt)\n",
    "\n",
    "    # apply linear model to source color channels\n",
    "    b = blue[3] + source_r * blue[0] + source_g * blue[1] + source_b * blue[2] \n",
    "    g = green[3] + source_r * green[0] + source_g * green[1] + source_b * green[2] \n",
    "    r = red[3] + source_r * red[0] + source_g * red[1] + source_b * red[2] \n",
    "\n",
    "    # merge corrected color channels onto source_image\n",
    "    bgr = [b, g, r]\n",
    "    corrected_img = cv2.merge(bgr)\n",
    "\n",
    "    # return values of the image to the original range\n",
    "    corrected_img = max_val*np.clip(corrected_img, 0, 1)\n",
    "    # cast back to original dtype (if uint the value defaults to the closest smaller integer)\n",
    "    corrected_img = corrected_img.astype(source_dtype)\n",
    "    return corrected_img\n"
   ]
  },
  {
   "cell_type": "code",
   "execution_count": 214,
   "id": "202d88a2-2dc6-46c4-b138-6d3fb9ad6df2",
   "metadata": {},
   "outputs": [],
   "source": [
    "target_headers, target_matrix = get_color_matrix(real_card, mask)\n",
    "source_headers, source_matrix = get_color_matrix(wsi_card, mask)"
   ]
  },
  {
   "cell_type": "code",
   "execution_count": 215,
   "id": "f23803a7-62e5-4e33-899f-582d581c74b4",
   "metadata": {},
   "outputs": [],
   "source": [
    "matrix_a, matrix_m, matrix_b = get_matrix_m(target_matrix=target_matrix, source_matrix=source_matrix)\n"
   ]
  },
  {
   "cell_type": "code",
   "execution_count": 216,
   "id": "060f8b20-d937-4c87-b998-fef9908c6d12",
   "metadata": {},
   "outputs": [],
   "source": [
    "transformation_matrix = calc_transformation_matrix(matrix_m, matrix_b)"
   ]
  },
  {
   "cell_type": "code",
   "execution_count": 217,
   "id": "d1089b57-09b1-4c3a-8c82-20c60ef398e0",
   "metadata": {},
   "outputs": [
    {
     "data": {
      "text/plain": [
       "array([[ 3.00259608,  0.11769524, -0.36696199],\n",
       "       [-1.64682845,  1.73414747,  0.03247072],\n",
       "       [-0.08895442, -0.62108925,  1.80938696],\n",
       "       [-0.01116838,  0.16752787, -0.15381074]])"
      ]
     },
     "execution_count": 217,
     "metadata": {},
     "output_type": "execute_result"
    }
   ],
   "source": [
    "transformation_matrix"
   ]
  },
  {
   "cell_type": "code",
   "execution_count": 218,
   "id": "dd865b91-03b3-4d5e-a2c8-140773db6c4d",
   "metadata": {},
   "outputs": [],
   "source": [
    "corrected = apply_transformation_matrix(wsi_card,transformation_matrix)"
   ]
  },
  {
   "cell_type": "code",
   "execution_count": 219,
   "id": "3846052a-8dba-471f-9aaa-80c470e31242",
   "metadata": {},
   "outputs": [],
   "source": [
    "tifffile.imwrite(\"../corrected_card3\",corrected)"
   ]
  },
  {
   "cell_type": "code",
   "execution_count": 247,
   "id": "20320e98-25e9-4696-b6fd-bf9f06d819d5",
   "metadata": {},
   "outputs": [],
   "source": [
    "tot = tifffile.imread(\"/home/humangene/Desktop/images_7.png\")"
   ]
  },
  {
   "cell_type": "code",
   "execution_count": 248,
   "id": "3c35887a-1831-49a8-bc60-69a7d115ec57",
   "metadata": {},
   "outputs": [],
   "source": [
    "# R = tot[:,:,2]\n",
    "# G = tot[:,:,1]\n",
    "# B = tot[:,:,0]\n",
    "# tot = cv2.merge([R,G,B])"
   ]
  },
  {
   "cell_type": "code",
   "execution_count": 249,
   "id": "7201751f-31fb-43c3-bfe1-5ed96c04c111",
   "metadata": {},
   "outputs": [],
   "source": [
    "middle = tot.shape[0]//2,tot.shape[1]//2\n",
    "s = 6000\n",
    "test_img = tot[middle[0] - s:middle[0]+s , middle[1]-s:middle[1]+s]"
   ]
  },
  {
   "cell_type": "code",
   "execution_count": 250,
   "id": "62fd14fa-f85e-4a1f-b2ba-e010f2cd2028",
   "metadata": {},
   "outputs": [
    {
     "data": {
      "text/plain": [
       "<matplotlib.image.AxesImage at 0x7f96a302bcd0>"
      ]
     },
     "execution_count": 250,
     "metadata": {},
     "output_type": "execute_result"
    },
    {
     "data": {
      "image/png": "[encoded data removed]",
      "text/plain": [
       "<Figure size 432x288 with 1 Axes>"
      ]
     },
     "metadata": {
      "needs_background": "light"
     },
     "output_type": "display_data"
    }
   ],
   "source": [
    "plt.imshow(test_img)"
   ]
  },
  {
   "cell_type": "code",
   "execution_count": 251,
   "id": "5c12b4b4-5d74-47ce-bf2e-0bc21407a849",
   "metadata": {},
   "outputs": [],
   "source": [
    "corrected = apply_transformation_matrix(tot,transformation_matrix)"
   ]
  },
  {
   "cell_type": "code",
   "execution_count": 252,
   "id": "0084cd6e-002d-458a-89c6-658174a8782e",
   "metadata": {},
   "outputs": [],
   "source": [
    "R = corrected[:,:,0]\n",
    "G = corrected[:,:,1]\n",
    "B = corrected[:,:,2]"
   ]
  },
  {
   "cell_type": "code",
   "execution_count": 253,
   "id": "fc8bcd61-fb6b-473e-8b77-c20e001a932f",
   "metadata": {},
   "outputs": [],
   "source": [
    "img2 = np.clip(cv2.merge([R*1.385869565,G*1.138392857,B*1.220095694]),0,255).astype(\"uint8\")"
   ]
  },
  {
   "cell_type": "code",
   "execution_count": 254,
   "id": "81db30f9-b324-4efb-91e3-057237c6db5a",
   "metadata": {},
   "outputs": [],
   "source": [
    "R2 = img2[:,:,0]\n",
    "G2 = img2[:,:,1]\n",
    "B2 = img2[:,:,2]"
   ]
  },
  {
   "cell_type": "code",
   "execution_count": 255,
   "id": "13ac1d3e-6230-4c5e-8aac-b0fc6e082e76",
   "metadata": {},
   "outputs": [],
   "source": [
    "tifffile.imwrite(\"../images_7.png\",img2)"
   ]
  },
  {
   "cell_type": "code",
   "execution_count": 116,
   "id": "3b81c42a-18f5-4d7e-8da0-f777a1df806b",
   "metadata": {},
   "outputs": [],
   "source": [
    "def show_col_dis(R,G,B):\n",
    "    plt.plot(np.mean(R,axis=0),color = \"red\")\n",
    "    plt.plot(np.mean(G,axis=0),color = \"green\")\n",
    "    plt.plot(np.mean(B,axis=0),color = \"blue\")\n"
   ]
  },
  {
   "cell_type": "code",
   "execution_count": 147,
   "id": "f858d99f-2af4-4b23-a570-468bdd40b4b1",
   "metadata": {},
   "outputs": [],
   "source": [
    "\n",
    "R2_e = (R2/np.mean(R2,axis=0)) *np.mean(R2)\n",
    "G2_e = (G2/np.mean(G2,axis=0)) *np.mean(G2)\n",
    "B2_e = (B2/np.mean(B2,axis=0)) *np.mean(B2)"
   ]
  },
  {
   "cell_type": "code",
   "execution_count": 148,
   "id": "76ce53cb-1844-456d-ac9a-a994cfd66fdc",
   "metadata": {},
   "outputs": [
    {
     "data": {
      "image/png": "[encoded data removed]",
      "text/plain": [
       "<Figure size 432x288 with 1 Axes>"
      ]
     },
     "metadata": {
      "needs_background": "light"
     },
     "output_type": "display_data"
    }
   ],
   "source": [
    "show_col_dis(R2_e,G2_e,B2_e)"
   ]
  },
  {
   "cell_type": "code",
   "execution_count": 151,
   "id": "21f3d72a-62aa-460d-9504-a78774833fda",
   "metadata": {},
   "outputs": [
    {
     "data": {
      "text/plain": [
       "True"
      ]
     },
     "execution_count": 151,
     "metadata": {},
     "output_type": "execute_result"
    }
   ],
   "source": [
    "cv2.imwrite(\"../fff.png\",np.clip(cv2.merge([B2_e,G2_e,R2_e]),0,255).astype(\"uint8\"))"
   ]
  },
  {
   "cell_type": "code",
   "execution_count": 80,
   "id": "51172802-7749-4c15-9da3-9d2d2b3c5bfc",
   "metadata": {},
   "outputs": [
    {
     "data": {
      "text/plain": [
       "(8182, 2023)"
      ]
     },
     "execution_count": 80,
     "metadata": {},
     "output_type": "execute_result"
    }
   ],
   "source": [
    "(B*1.0569274286636272).shape"
   ]
  },
  {
   "cell_type": "code",
   "execution_count": 87,
   "id": "7a186884-4a2c-417b-9b7a-f695da5937df",
   "metadata": {},
   "outputs": [
    {
     "ename": "error",
     "evalue": "OpenCV(4.6.0) /io/opencv/modules/core/src/merge.dispatch.cpp:129: error: (-215:Assertion failed) mv[i].size == mv[0].size && mv[i].depth() == depth in function 'merge'\n",
     "output_type": "error",
     "traceback": [
      "\u001b[0;31m---------------------------------------------------------------------------\u001b[0m",
      "\u001b[0;31merror\u001b[0m                                     Traceback (most recent call last)",
      "\u001b[0;32m/tmp/ipykernel_665585/3472129918.py\u001b[0m in \u001b[0;36m<cell line: 1>\u001b[0;34m()\u001b[0m\n\u001b[0;32m----> 1\u001b[0;31m \u001b[0mcv2\u001b[0m\u001b[0;34m.\u001b[0m\u001b[0mmerge\u001b[0m\u001b[0;34m(\u001b[0m\u001b[0;34m[\u001b[0m\u001b[0mR\u001b[0m\u001b[0;34m*\u001b[0m\u001b[0;34m(\u001b[0m\u001b[0;36m1.03\u001b[0m\u001b[0;34m)\u001b[0m\u001b[0;34m,\u001b[0m\u001b[0mG\u001b[0m\u001b[0;34m*\u001b[0m\u001b[0;36m4\u001b[0m\u001b[0;34m,\u001b[0m\u001b[0mB\u001b[0m\u001b[0;34m*\u001b[0m\u001b[0;36m5\u001b[0m\u001b[0;34m]\u001b[0m\u001b[0;34m)\u001b[0m\u001b[0;34m\u001b[0m\u001b[0;34m\u001b[0m\u001b[0m\n\u001b[0m",
      "\u001b[0;31merror\u001b[0m: OpenCV(4.6.0) /io/opencv/modules/core/src/merge.dispatch.cpp:129: error: (-215:Assertion failed) mv[i].size == mv[0].size && mv[i].depth() == depth in function 'merge'\n"
     ]
    }
   ],
   "source": [
    "cv2.merge([R*(1.03),G*4,B*5])"
   ]
  },
  {
   "cell_type": "code",
   "execution_count": null,
   "id": "f084cd4f-db3d-4103-9ac4-92e566549ddf",
   "metadata": {},
   "outputs": [],
   "source": []
  },
  {
   "cell_type": "code",
   "execution_count": null,
   "id": "2d908741-5729-4528-afac-e5ed7c99ad0a",
   "metadata": {},
   "outputs": [],
   "source": []
  }
 ],
 "metadata": {
  "kernelspec": {
   "display_name": "Python 3 (ipykernel)",
   "language": "python",
   "name": "python3"
  },
  "language_info": {
   "codemirror_mode": {
    "name": "ipython",
    "version": 3
   },
   "file_extension": ".py",
   "mimetype": "text/x-python",
   "name": "python",
   "nbconvert_exporter": "python",
   "pygments_lexer": "ipython3",
   "version": "3.9.12"
  }
 },
 "nbformat": 4,
 "nbformat_minor": 5
}
