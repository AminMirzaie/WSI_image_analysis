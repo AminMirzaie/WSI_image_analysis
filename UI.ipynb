{
 "cells": [
  {
   "cell_type": "code",
   "execution_count": 1,
   "id": "580b722c-6b04-45e6-b86b-f26f313ecc7e",
   "metadata": {},
   "outputs": [],
   "source": [
    "from PyQt5.QtWidgets import QApplication,QLabel"
   ]
  },
  {
   "cell_type": "code",
   "execution_count": 2,
   "id": "ca25eac5-b45c-4290-a4fa-10bd76789bf6",
   "metadata": {},
   "outputs": [],
   "source": [
    "app = QApplication([])"
   ]
  },
  {
   "cell_type": "code",
   "execution_count": 3,
   "id": "c55cd65e-d9f3-4f74-9eca-c256d5874a83",
   "metadata": {},
   "outputs": [],
   "source": [
    "label = QLabel(\"salam\")"
   ]
  },
  {
   "cell_type": "code",
   "execution_count": 4,
   "id": "3d5e474c-e188-4cd1-a050-a655bbd335c4",
   "metadata": {},
   "outputs": [
    {
     "data": {
      "text/plain": [
       "0"
      ]
     },
     "execution_count": 4,
     "metadata": {},
     "output_type": "execute_result"
    }
   ],
   "source": [
    "label.show()\n",
    "app.exec_()"
   ]
  },
  {
   "cell_type": "code",
   "execution_count": null,
   "id": "3e20bd5a-b6f1-41d1-94ef-34b22bb51124",
   "metadata": {},
   "outputs": [],
   "source": []
  }
 ],
 "metadata": {
  "kernelspec": {
   "display_name": "Python 3 (ipykernel)",
   "language": "python",
   "name": "python3"
  },
  "language_info": {
   "codemirror_mode": {
    "name": "ipython",
    "version": 3
   },
   "file_extension": ".py",
   "mimetype": "text/x-python",
   "name": "python",
   "nbconvert_exporter": "python",
   "pygments_lexer": "ipython3",
   "version": "3.9.12"
  }
 },
 "nbformat": 4,
 "nbformat_minor": 5
}
