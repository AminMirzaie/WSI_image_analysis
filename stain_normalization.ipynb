{
 "cells": [
  {
   "cell_type": "code",
   "execution_count": 7,
   "id": "9fde1cf7-f3e6-4a2f-8810-e2c5d41d7198",
   "metadata": {},
   "outputs": [],
   "source": [
    "import cv2\n",
    "import numpy as np\n",
    "from mpl_toolkits.mplot3d import Axes3D\n",
    "import matplotlib.pyplot as plt"
   ]
  },
  {
   "cell_type": "code",
   "execution_count": 8,
   "id": "70460b6a-01e9-418f-939d-b2322c541b0c",
   "metadata": {},
   "outputs": [],
   "source": [
    "name = \"/home/humangene/Desktop/jhg2\"\n",
    "img = cv2.imread(name+\".png\")\n",
    "img = cv2.cvtColor(img, cv2.COLOR_BGR2RGB)\n",
    "\n",
    "Io = 240 # Transmitted light intensity, Normalizing factor for image intensities\n",
    "alpha = 1  #As recommend in the paper. tolerance for the pseudo-min and pseudo-max (default: 1)\n",
    "beta = 0.15 #As recommended in the paper. OD threshold for transparent pixels (default: 0.15)\n",
    "\n",
    "\n",
    "######## Step 1: Convert RGB to OD ###################\n",
    "## reference H&E OD matrix.\n",
    "#Can be updated if you know the best values for your image. \n",
    "#Otherwise use the following default values. \n",
    "#Read the above referenced papers on this topic. \n",
    "HERef = np.array([[0.5626, 0.2159],\n",
    "                  [0.7201, 0.8012],\n",
    "                  [0.4062, 0.5581]])\n",
    "### reference maximum stain concentrations for H&E\n",
    "maxCRef = np.array([1.9705, 1.0308])\n",
    "\n",
    "\n",
    "# extract the height, width and num of channels of image\n",
    "h, w, c = img.shape\n",
    "\n",
    "# reshape image to multiple rows and 3 columns.\n",
    "#Num of rows depends on the image size (wxh)\n",
    "img = img.reshape((-1,3))\n",
    "\n",
    "# calculate optical density\n",
    "# OD = −log10(I)  \n",
    "#OD = -np.log10(img+0.004)  #Use this when reading images with skimage\n",
    "#Adding 0.004 just to avoid log of zero. \n",
    "\n",
    "OD = -np.log10((img.astype(np.float64)+1)/Io) #Use this for opencv imread\n",
    "#Add 1 in case any pixels in the image have a value of 0 (log 0 is indeterminate)\n",
    "\n",
    "\"\"\"\n",
    "from mpl_toolkits.mplot3d import Axes3D\n",
    "fig = plt.figure(figsize=(16, 8))\n",
    "ax1 = fig.add_subplot(121, projection='3d')\n",
    "ax1.scatter(img[:,0],img[:,1],img[:,2])\n",
    "ax2 = fig.add_subplot(122, projection='3d')\n",
    "ax2.scatter(OD[:,0],OD[:,1],OD[:,2])\n",
    "plt.show()\n",
    "\"\"\"\n",
    "\n",
    "############ Step 2: Remove data with OD intensity less than β ############\n",
    "# remove transparent pixels (clear region with no tissue)\n",
    "ODhat = OD[~np.any(OD < beta, axis=1)] #Returns an array where OD values are above beta\n",
    "#Check by printing ODhat.min()\n",
    "\n",
    "############# Step 3: Calculate SVD on the OD tuples ######################\n",
    "#Estimate covariance matrix of ODhat (transposed)\n",
    "# and then compute eigen values & eigenvectors.\n",
    "eigvals, eigvecs = np.linalg.eigh(np.cov(ODhat.T))\n",
    "\n",
    "\n",
    "######## Step 4: Create plane from the SVD directions with two largest values ######\n",
    "#project on the plane spanned by the eigenvectors corresponding to the two \n",
    "# largest eigenvalues    \n",
    "That = ODhat.dot(eigvecs[:,1:3]) #Dot product\n",
    "\n",
    "############### Step 5: Project data onto the plane, and normalize to unit length ###########\n",
    "############## Step 6: Calculate angle of each point wrt the first SVD direction ########\n",
    "#find the min and max vectors and project back to OD space\n",
    "phi = np.arctan2(That[:,1],That[:,0])\n",
    "\n",
    "minPhi = np.percentile(phi, alpha)\n",
    "maxPhi = np.percentile(phi, 100-alpha)\n",
    "\n",
    "vMin = eigvecs[:,1:3].dot(np.array([(np.cos(minPhi), np.sin(minPhi))]).T)\n",
    "vMax = eigvecs[:,1:3].dot(np.array([(np.cos(maxPhi), np.sin(maxPhi))]).T)\n",
    "\n",
    "\n",
    "# a heuristic to make the vector corresponding to hematoxylin first and the \n",
    "# one corresponding to eosin second\n",
    "if vMin[0] > vMax[0]:    \n",
    "    HE = np.array((vMin[:,0], vMax[:,0])).T\n",
    "    \n",
    "else:\n",
    "    HE = np.array((vMax[:,0], vMin[:,0])).T\n",
    "\n",
    "\n",
    "# rows correspond to channels (RGB), columns to OD values\n",
    "Y = np.reshape(OD, (-1, 3)).T\n",
    "\n",
    "# determine concentrations of the individual stains\n",
    "C = np.linalg.lstsq(HE,Y, rcond=None)[0]\n",
    "\n",
    "# normalize stain concentrations\n",
    "maxC = np.array([np.percentile(C[0,:], 99), np.percentile(C[1,:],99)])\n",
    "tmp = np.divide(maxC,maxCRef)\n",
    "C2 = np.divide(C,tmp[:, np.newaxis])\n",
    "\n",
    "###### Step 8: Convert extreme values back to OD space\n",
    "# recreate the normalized image using reference mixing matrix \n",
    "\n",
    "Inorm = np.multiply(Io, np.exp(-HERef.dot(C2)))\n",
    "Inorm[Inorm>255] = 254\n",
    "Inorm = np.reshape(Inorm.T, (h, w, 3)).astype(np.uint8)  \n",
    "\n",
    "# Separating H and E components\n",
    "\n",
    "H = np.multiply(Io, np.exp(np.expand_dims(-HERef[:,0], axis=1).dot(np.expand_dims(C2[0,:], axis=0))))\n",
    "H[H>255] = 254\n",
    "H = np.reshape(H.T, (h, w, 3)).astype(np.uint8)\n",
    "\n",
    "E = np.multiply(Io, np.exp(np.expand_dims(-HERef[:,1], axis=1).dot(np.expand_dims(C2[1,:], axis=0))))\n",
    "E[E>255] = 254\n",
    "E = np.reshape(E.T, (h, w, 3)).astype(np.uint8)"
   ]
  },
  {
   "cell_type": "code",
   "execution_count": 9,
   "id": "b594def5-b0ca-4f90-9ce2-dad6a624cdff",
   "metadata": {},
   "outputs": [],
   "source": [
    "plt.imsave(\"/home/humangene/Desktop/p4_ref.jpg\",Inorm)\n",
    "plt.imsave(\"/home/humangene/Desktop/p4_H.jpg\",H)\n",
    "plt.imsave(\"/home/humangene/Desktop/p4_E.jpg\",E)"
   ]
  },
  {
   "cell_type": "code",
   "execution_count": 28,
   "id": "24889fba-22b4-4598-aebf-6e62fb879b56",
   "metadata": {},
   "outputs": [
    {
     "data": {
      "text/plain": [
       "array([[177, 177, 177],\n",
       "       [197, 197, 197],\n",
       "       [176, 176, 176],\n",
       "       ...,\n",
       "       [187, 187, 187],\n",
       "       [168, 168, 168],\n",
       "       [177, 177, 177]], dtype=uint8)"
      ]
     },
     "execution_count": 28,
     "metadata": {},
     "output_type": "execute_result"
    }
   ],
   "source": [
    "img"
   ]
  },
  {
   "cell_type": "code",
   "execution_count": 30,
   "id": "28f46afc-8983-4888-98ce-e2b6f2d78195",
   "metadata": {},
   "outputs": [
    {
     "name": "stdout",
     "output_type": "stream",
     "text": [
      "Requirement already satisfied: pyqt5 in /opt/anaconda/lib/python3.9/site-packages (5.15.4)\n",
      "Requirement already satisfied: PyQt5-Qt5>=5.15 in /opt/anaconda/lib/python3.9/site-packages (from pyqt5) (5.15.2)\n",
      "Requirement already satisfied: PyQt5-sip<13,>=12.8 in /opt/anaconda/lib/python3.9/site-packages (from pyqt5) (12.11.0)\n",
      "Note: you may need to restart the kernel to use updated packages.\n"
     ]
    }
   ],
   "source": [
    "pip install pyqt5"
   ]
  },
  {
   "cell_type": "code",
   "execution_count": null,
   "id": "426e560e-9c7a-4f58-a660-95a397e0404c",
   "metadata": {},
   "outputs": [],
   "source": []
  }
 ],
 "metadata": {
  "kernelspec": {
   "display_name": "Python 3 (ipykernel)",
   "language": "python",
   "name": "python3"
  },
  "language_info": {
   "codemirror_mode": {
    "name": "ipython",
    "version": 3
   },
   "file_extension": ".py",
   "mimetype": "text/x-python",
   "name": "python",
   "nbconvert_exporter": "python",
   "pygments_lexer": "ipython3",
   "version": "3.9.12"
  }
 },
 "nbformat": 4,
 "nbformat_minor": 5
}
