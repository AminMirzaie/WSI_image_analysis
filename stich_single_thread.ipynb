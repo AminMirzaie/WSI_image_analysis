{
 "cells": [
  {
   "cell_type": "code",
   "execution_count": 68,
   "id": "b269d278-c257-4988-9814-effb771e97bf",
   "metadata": {},
   "outputs": [],
   "source": [
    "import numpy as np\n",
    "import matplotlib.pyplot as plt\n",
    "from skimage.io import imread, imshow\n",
    "from skimage.color import rgb2hsv, rgb2gray, rgb2yuv\n",
    "from skimage import color, exposure, transform\n",
    "from skimage.exposure import equalize_hist\n",
    "import cv2\n",
    "import os\n",
    "from scipy import fftpack\n",
    "from skimage.transform import warp\n",
    "from skimage import io\n",
    "from image_registration import chi2_shift\n",
    "import skimage\n",
    "import image_registration\n",
    "import tifffile"
   ]
  },
  {
   "cell_type": "code",
   "execution_count": 69,
   "id": "f42d07b5-fd4f-42e0-9cb3-31baf74f5272",
   "metadata": {},
   "outputs": [],
   "source": [
    "def generateCoefficents():\n",
    "    refrences = []\n",
    "    base = \"./IR_RED_filter/BG\"\n",
    "    refrences.append(cv2.imread(base+'_cR.tif',cv2.IMREAD_UNCHANGED))\n",
    "    refrences.append(cv2.imread(base+'_cG.tif',cv2.IMREAD_UNCHANGED))\n",
    "    refrences.append(cv2.imread(base+'_cB.tif',cv2.IMREAD_UNCHANGED))\n",
    "   \n",
    "    refrenceMean = 50000\n",
    "    means = []\n",
    "    coeficients = []\n",
    "\n",
    "    for index, image in enumerate(refrences):\n",
    "        coeficients.append([])\n",
    "        means.append([])\n",
    "        for line in range(image.shape[1]):\n",
    "            if(np.mean(image[:, line:line+1]) != 0):\n",
    "                coeficients[index].append(refrenceMean/ np.mean(image[:, line]))\n",
    "            else:\n",
    "                coeficients[index].append(1)\n",
    "            means[index].append(np.mean(image[:, line]) )\n",
    "    \n",
    "    return coeficients\n",
    "\n",
    "def shift_finder(R,G):\n",
    "    height, width = R.shape\n",
    "    orb_detector = cv2.ORB_create(10000)\n",
    "    kp1, d1 = orb_detector.detectAndCompute(R, None)\n",
    "    kp2, d2 = orb_detector.detectAndCompute(G, None)\n",
    "    matcher = cv2.BFMatcher(cv2.NORM_HAMMING, crossCheck = True)\n",
    "    matches = matcher.match(d1, d2)\n",
    "    matches = sorted(matches, key = lambda x:x.distance)\n",
    "    matches = matches[:int(len(matches)*0.9)]\n",
    "    no_of_matches = len(matches)\n",
    "    p1 = np.zeros((no_of_matches, 2))\n",
    "    p2 = np.zeros((no_of_matches, 2))\n",
    "\n",
    "    for i in range(len(matches)):\n",
    "        p1[i, :] = kp1[matches[i].queryIdx].pt\n",
    "        p2[i, :] = kp2[matches[i].trainIdx].pt\n",
    "\n",
    "    homography, mask = cv2.findHomography(p1, p2, cv2.RANSAC)\n",
    "    return homography\n",
    "\n",
    "def align_channel(chanel,M):\n",
    "    a = skimage.transform.SimilarityTransform(matrix=M)\n",
    "    return np.ma.array(warp(chanel, a, preserve_range=True,output_shape=chanel.shape, cval=-1)) "
   ]
  },
  {
   "cell_type": "code",
   "execution_count": 70,
   "id": "f76fa56f-a834-4ef7-9109-3cca2b4985ba",
   "metadata": {},
   "outputs": [
    {
     "name": "stdout",
     "output_type": "stream",
     "text": [
      "0\n",
      "1\n",
      "2\n",
      "3\n",
      "4\n",
      "5\n",
      "6\n"
     ]
    }
   ],
   "source": [
    "num_lines = 7\n",
    "coeficients = generateCoefficents()\n",
    "channels_shifts = {}\n",
    "lines = {}\n",
    "\n",
    "base_folder = \"./IR_RED_filter/\"\n",
    "\n",
    "i = 3\n",
    "R = cv2.imread(base_folder+\"line_\"+str(i)+\"_c1.tif\",cv2.IMREAD_GRAYSCALE) *coeficients[0]\n",
    "G = cv2.imread(base_folder+\"line_\"+str(i)+\"_c2.tif\",cv2.IMREAD_GRAYSCALE)*coeficients[1]\n",
    "B = cv2.imread(base_folder+\"line_\"+str(i)+\"_c3.tif\",cv2.IMREAD_GRAYSCALE)*coeficients[2]\n",
    "\n",
    "\n",
    "# yoff_BR,xoff_BR ,yer,xer= image_registration.chi2_shift(R,B,0.01)\n",
    "# yoff_GR,xoff_GR ,yer,xer= image_registration.chi2_shift(R,G,0.01)\n",
    "# print(yoff_BR,xoff_BR,\" \",yoff_GR,xoff_GR)\n",
    "# BR_h = np.array([[1., 0. , yoff_BR ],\n",
    "#              [0., 1. , xoff_BR],\n",
    "#              [0., 0. , 1.]], dtype=np.float32)\n",
    "# GR_h = np.array([[1., 0. , yoff_GR ],\n",
    "#              [0., 1. , xoff_GR],\n",
    "#              [0., 0., 1.]], dtype=np.float32)\n",
    "BR_h = shift_finder(R.astype(\"uint8\"),B.astype(\"uint8\"))\n",
    "GR_h = shift_finder(R.astype(\"uint8\"),G.astype(\"uint8\"))\n",
    "for i in range(num_lines):\n",
    "    print(i)\n",
    "    lines[i] = (\n",
    "        np.clip(\n",
    "        cv2.merge([\n",
    "        (cv2.imread(base_folder+\"line_\"+str(i)+\"_c1.tif\",cv2.IMREAD_GRAYSCALE)/255)*coeficients[0],\n",
    "        (align_channel(cv2.imread(base_folder+\"line_\"+str(i)+\"_c2.tif\",cv2.IMREAD_GRAYSCALE),GR_h)/255)*coeficients[1],\n",
    "        (align_channel(cv2.imread(base_folder+\"line_\"+str(i)+\"_c3.tif\",cv2.IMREAD_GRAYSCALE),BR_h)/255)*coeficients[2]\n",
    "    ])[2:-6,2:-15]\n",
    "        ,0,1)*255\n",
    "    ).astype(\"uint8\")\n"
   ]
  },
  {
   "cell_type": "code",
   "execution_count": 71,
   "id": "4104467e-5071-4400-bbf9-04bfd3dc930a",
   "metadata": {},
   "outputs": [
    {
     "name": "stdout",
     "output_type": "stream",
     "text": [
      "0\n"
     ]
    },
    {
     "name": "stderr",
     "output_type": "stream",
     "text": [
      "/opt/anaconda/lib/python3.9/site-packages/image_registration/fft_tools/convolve_nd.py:269: FutureWarning: Using a non-tuple sequence for multidimensional indexing is deprecated; use `arr[tuple(seq)]` instead of `arr[seq]`. In the future this will be interpreted as an array index, `arr[np.array(seq)]`, which will result either in an error or a different result.\n",
      "  bigarray[arrayslices] = array\n",
      "/opt/anaconda/lib/python3.9/site-packages/image_registration/fft_tools/convolve_nd.py:270: FutureWarning: Using a non-tuple sequence for multidimensional indexing is deprecated; use `arr[tuple(seq)]` instead of `arr[seq]`. In the future this will be interpreted as an array index, `arr[np.array(seq)]`, which will result either in an error or a different result.\n",
      "  bigkernel[kernslices] = kernel\n",
      "/opt/anaconda/lib/python3.9/site-packages/image_registration/fft_tools/convolve_nd.py:325: FutureWarning: Using a non-tuple sequence for multidimensional indexing is deprecated; use `arr[tuple(seq)]` instead of `arr[seq]`. In the future this will be interpreted as an array index, `arr[np.array(seq)]`, which will result either in an error or a different result.\n",
      "  result = rifft[arrayslices].real\n",
      "/opt/anaconda/lib/python3.9/site-packages/image_registration/fft_tools/zoom.py:101: FutureWarning: Using a non-tuple sequence for multidimensional indexing is deprecated; use `arr[tuple(seq)]` instead of `arr[seq]`. In the future this will be interpreted as an array index, `arr[np.array(seq)]`, which will result either in an error or a different result.\n",
      "  outarr[ii] = outarr_d[dims]\n"
     ]
    },
    {
     "name": "stdout",
     "output_type": "stream",
     "text": [
      "39.509765625 -16.126953125\n",
      "1\n",
      "54.115234375 -15.130859375\n",
      "2\n",
      "36.623046875 -15.318359375\n",
      "3\n",
      "51.400390625 -14.462890625\n",
      "4\n",
      "43.130859375 -15.447265625\n",
      "5\n",
      "45.138671875 -14.955078125\n"
     ]
    }
   ],
   "source": [
    "import skimage\n",
    "import image_registration\n",
    "\n",
    "line_shifts = {}\n",
    "middle = (int(B.shape[0]/2),int(B.shape[1]/2))\n",
    "\n",
    "for i in range(num_lines - 1):\n",
    "    print(i)\n",
    "    right_image = lines[i]\n",
    "    left_image = lines[i+1]\n",
    "    # if i ==0:\n",
    "    #     middle = (int(right_image.shape[0]/2),int(right_image.shape[1]/2))\n",
    "    # right_image = right_image[middle[0]-4000:middle[0]+4000,:]\n",
    "    # left_image = left_image[middle[0]-4000:middle[0]+4000,:]\n",
    "    min_row = min(right_image.shape[0],left_image.shape[0])\n",
    "    min_col = min(right_image.shape[1],left_image.shape[1])\n",
    "    right_image_c = right_image[:min_row,:300]\n",
    "    left_image_c = left_image[:min_row,-300:]\n",
    "    left_image_c = left_image_c.astype(\"uint8\")\n",
    "    right_image_c = right_image_c.astype(\"uint8\")\n",
    "    # right_image_c = right_image\n",
    "    # left_image_c = left_image\n",
    "    im1 = cv2.cvtColor(left_image_c, cv2.COLOR_BGR2GRAY)\n",
    "    im2 = cv2.cvtColor(right_image_c, cv2.COLOR_BGR2GRAY)\n",
    "    yoff,xoff ,yer,xer= image_registration.chi2_shift(im1,im2,0.1)\n",
    "    im1_aligned_to_im2ed_to_im2 = np.roll(np.roll(im1,int(yoff),1),int(xoff),0)\n",
    "    \n",
    "    print(yoff,xoff)\n",
    "    if yoff > 30  and xoff<0:  \n",
    "        line_shifts[(i,i+1)] = (int(yoff),int(-1*xoff))"
   ]
  },
  {
   "cell_type": "code",
   "execution_count": 72,
   "id": "d37ec164-4be2-41ad-885e-c83cf2bdff77",
   "metadata": {},
   "outputs": [],
   "source": [
    "valid_list = []\n",
    "for key , value in line_shifts.items():\n",
    "    valid_list.append(key[1])"
   ]
  },
  {
   "cell_type": "code",
   "execution_count": 73,
   "id": "b643a060-e2fc-4239-bc71-81cd148e36e4",
   "metadata": {},
   "outputs": [
    {
     "name": "stdout",
     "output_type": "stream",
     "text": [
      "6\n",
      "5\n",
      "4\n",
      "3\n",
      "2\n",
      "1\n",
      "0\n"
     ]
    }
   ],
   "source": [
    "yoff_sum = 0\n",
    "xoff_sum = 0\n",
    "tempelate = lines[3]\n",
    "max_tot_row = tempelate.shape[0]\n",
    "max_tot_col = tempelate.shape[1]\n",
    "for val in line_shifts.values():\n",
    "    yoff_sum+=val[0]\n",
    "    xoff_sum+=val[1]\n",
    "img_shape = (max_tot_row,max_tot_col,3)\n",
    "mid = (int(img_shape[0]/2),int(img_shape[1]/2))\n",
    "row_numbers = img_shape[0]\n",
    "tot = np.zeros((row_numbers+xoff_sum,img_shape[1]*num_lines - yoff_sum,3),dtype = np.uint8)\n",
    "last_row_index = tot.shape[0]\n",
    "last_col_index = tot.shape[1] \n",
    "valid_range = [last_row_index,last_row_index]\n",
    "for i in range(num_lines):\n",
    "    indx = num_lines - i-1\n",
    "    print(indx)\n",
    "    if i in valid_list:\n",
    "        middle_img = lines[i]\n",
    "        img_shape = (middle_img.shape[0],middle_img.shape[1],3)\n",
    "        row_numbers = middle_img.shape[0]\n",
    "        yshift,xshift = line_shifts[(i - 1,i)]\n",
    "        tot[last_row_index-row_numbers - xshift:last_row_index-xshift,last_col_index-img_shape[1]+yshift:last_col_index+yshift,:] = middle_img\n",
    "        valid_range[0] = last_row_index-row_numbers\n",
    "        valid_range[1] = last_row_index+xshift\n",
    "        last_row_index = last_row_index-xshift\n",
    "        last_col_index = last_col_index-img_shape[1]+yshift\n",
    "    else:\n",
    "        middle_img = lines[i]\n",
    "        tot[last_row_index-middle_img.shape[0]:last_row_index,last_col_index-middle_img.shape[1]:last_col_index,:] = middle_img\n",
    "        valid_range[0] = last_row_index-middle_img.shape[0]\n",
    "        valid_range[1] = last_row_index\n",
    "        \n",
    "        last_row_index = last_row_index\n",
    "        last_col_index = last_col_index - middle_img.shape[1]"
   ]
  },
  {
   "cell_type": "code",
   "execution_count": 74,
   "id": "41b6e358-a5d6-432b-a3f2-95f4a28d6aa6",
   "metadata": {},
   "outputs": [],
   "source": [
    "tifffile.imwrite(\"./tot.png\",tot)"
   ]
  }
 ],
 "metadata": {
  "kernelspec": {
   "display_name": "Python 3 (ipykernel)",
   "language": "python",
   "name": "python3"
  },
  "language_info": {
   "codemirror_mode": {
    "name": "ipython",
    "version": 3
   },
   "file_extension": ".py",
   "mimetype": "text/x-python",
   "name": "python",
   "nbconvert_exporter": "python",
   "pygments_lexer": "ipython3",
   "version": "3.9.12"
  }
 },
 "nbformat": 4,
 "nbformat_minor": 5
}
