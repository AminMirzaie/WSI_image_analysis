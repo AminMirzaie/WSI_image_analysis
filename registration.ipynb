{
 "cells": [
  {
   "cell_type": "code",
   "execution_count": 31,
   "id": "a837b538-5f0b-4010-baeb-85e2f4bedf10",
   "metadata": {},
   "outputs": [],
   "source": [
    "import numpy as np\n",
    "import matplotlib.pyplot as plt\n",
    "from skimage.io import imread, imshow\n",
    "from skimage.color import rgb2hsv, rgb2gray, rgb2yuv\n",
    "from skimage import color, exposure, transform\n",
    "from skimage.exposure import equalize_hist\n",
    "import cv2\n",
    "import os\n",
    "from scipy import fftpack\n",
    "from skimage.transform import warp\n",
    "from skimage import io\n",
    "from image_registration import chi2_shift\n",
    "import skimage\n",
    "import image_registration\n",
    "import tifffile\n",
    "import time\n",
    "import concurrent.futures\n",
    "import skimage\n",
    "import image_registration\n",
    "from pystackreg import StackReg\n",
    "import cv2 # Import the OpenCV library\n",
    "import numpy as np # Import Numpy library\n",
    "import matplotlib.pyplot as plt # Import matplotlib functionality\n",
    "import sys"
   ]
  },
  {
   "cell_type": "code",
   "execution_count": 32,
   "id": "2e268da8-8ea6-4977-9ccd-33754e9d8c5e",
   "metadata": {},
   "outputs": [],
   "source": [
    "template_dir = \"/home/humangene/share/303_5/line_8_c1.tif\"\n",
    "background_dir =\"/home/humangene/share/NEW_IR_color/bg/BG_cR.tif\"\n",
    "homography_out_dir = \"/home/humangene/Desktop/test2/\""
   ]
  },
  {
   "cell_type": "code",
   "execution_count": 33,
   "id": "435ee802-2e24-40e9-a292-f4921f607c42",
   "metadata": {},
   "outputs": [],
   "source": [
    "def align_channel(chanel,M):\n",
    "    a = skimage.transform.SimilarityTransform(matrix=M)\n",
    "    return np.ma.array(warp(chanel, a, preserve_range=True,output_shape=chanel.shape, cval=-1)) \n",
    "def homography_calculator(template,moving):\n",
    "    sr = StackReg(StackReg.AFFINE)\n",
    "    moving_homography = sr.register(template,moving)\n",
    "    return moving_homography\n",
    "def generateCoefficents(back_dir):\n",
    "    base_folder = \"_\".join(back_dir.split(\"_\")[:-1])\n",
    "    R = (cv2.imread(base_folder+\"_cR.tif\",cv2.IMREAD_UNCHANGED)[:,:-10])\n",
    "    G = (cv2.imread(base_folder+\"_cG.tif\",cv2.IMREAD_UNCHANGED)[:,:-10])\n",
    "    B = (cv2.imread(base_folder+\"_cB.tif\",cv2.IMREAD_UNCHANGED)[:,:-10])\n",
    "    coeficients = []\n",
    "    ref_mean = 40000\n",
    "    coeficients.append((1/np.mean(R,axis=0))*ref_mean)\n",
    "    coeficients.append((1/np.mean(G,axis=0))*ref_mean)\n",
    "    coeficients.append((1/np.mean(B,axis=0))*ref_mean)\n",
    "    return coeficients\n",
    "def clipper(channel):\n",
    "    a = np.quantile(channel,0.01)\n",
    "    b = np.quantile(channel,0.99)\n",
    "    return np.clip(channel,a,b)\n",
    "def rescale(channel):\n",
    "    return channel*(255.0/pow(2,16)) "
   ]
  },
  {
   "cell_type": "code",
   "execution_count": null,
   "id": "e17a1205-434f-4c03-aaed-ebaaba5fe25a",
   "metadata": {},
   "outputs": [],
   "source": [
    "def get_RGB("
   ]
  },
  {
   "cell_type": "code",
   "execution_count": 40,
   "id": "cef291d5-f853-4f16-a0ac-914a2912deee",
   "metadata": {},
   "outputs": [
    {
     "name": "stdout",
     "output_type": "stream",
     "text": [
      "template registered and result saved in: /home/humangene/Desktop/test2/transformation_matrix/template_registered.tif\n"
     ]
    }
   ],
   "source": [
    "# base_folder = \"_\".join(template_dir.split(\"_\")[:-1])\n",
    "# coeficients = generateCoefficents(background_dir)\n",
    "# R =np.clip(rescale((cv2.imread(base_folder+\"_c1.tif\",cv2.IMREAD_UNCHANGED)[:,:-10])*coeficients[0]),0,255).astype(\"uint8\")\n",
    "# G =np.clip(rescale((cv2.imread(base_folder+\"_c2.tif\",cv2.IMREAD_UNCHANGED)[:,:-10])*coeficients[1]),0,255).astype(\"uint8\")\n",
    "# B =np.clip(rescale((cv2.imread(base_folder+\"_c3.tif\",cv2.IMREAD_UNCHANGED)[:,:-10])*coeficients[2]),0,255).astype(\"uint8\")\n",
    "# if os.path.exists(homography_out_dir+\"transformation_matrix\"):\n",
    "#     homography_out_dir = homography_out_dir+\"transformation_matrix/\"\n",
    "# else:\n",
    "#     os.mkdir(homography_out_dir+\"transformation_matrix\")\n",
    "#     homography_out_dir = homography_out_dir+\"transformation_matrix/\"\n",
    "# BR_h = homography_calculator(R,B)\n",
    "# GR_h = homography_calculator(R,G)\n",
    "# np.savetxt(homography_out_dir+\"BR_h.txt\",BR_h)\n",
    "# np.savetxt(homography_out_dir+\"GR_h.txt\",GR_h)\n",
    "tifffile.imwrite(homography_out_dir+\"template_registered.tif\",cv2.merge([R,align_channel(G,GR_h).astype(\"uint8\"),align_channel(B,BR_h).astype(\"uint8\")]))\n",
    "print(\"template registered and result saved in: \"+homography_out_dir+\"template_registered.tif\")"
   ]
  }
 ],
 "metadata": {
  "kernelspec": {
   "display_name": "Python 3 (ipykernel)",
   "language": "python",
   "name": "python3"
  },
  "language_info": {
   "codemirror_mode": {
    "name": "ipython",
    "version": 3
   },
   "file_extension": ".py",
   "mimetype": "text/x-python",
   "name": "python",
   "nbconvert_exporter": "python",
   "pygments_lexer": "ipython3",
   "version": "3.9.12"
  }
 },
 "nbformat": 4,
 "nbformat_minor": 5
}
