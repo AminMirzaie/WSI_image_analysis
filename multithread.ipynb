{
 "cells": [
  {
   "cell_type": "code",
   "execution_count": 1,
   "id": "fa5db273-b272-4e38-a850-247b0c36b141",
   "metadata": {},
   "outputs": [],
   "source": [
    "import numpy as np\n",
    "import matplotlib.pyplot as plt\n",
    "from skimage.io import imread, imshow\n",
    "from skimage.color import rgb2hsv, rgb2gray, rgb2yuv\n",
    "from skimage import color, exposure, transform\n",
    "from skimage.exposure import equalize_hist\n",
    "import cv2\n",
    "import os\n",
    "from scipy import fftpack\n",
    "from skimage.transform import warp\n",
    "from skimage import io\n",
    "from image_registration import chi2_shift\n",
    "import skimage\n",
    "import image_registration\n",
    "import tifffile\n",
    "import time\n",
    "import concurrent.futures\n",
    "import skimage\n",
    "import image_registration\n",
    "from pystackreg import StackReg\n",
    "import cv2 # Import the OpenCV library\n",
    "import numpy as np # Import Numpy library\n",
    "import matplotlib.pyplot as plt # Import matplotlib functionality\n",
    "import sys\n",
    "import gc\n",
    "import glob"
   ]
  },
  {
   "cell_type": "code",
   "execution_count": 2,
   "id": "c1780842-9485-4ec7-82f4-afde7ad2ac8d",
   "metadata": {},
   "outputs": [
    {
     "data": {
      "text/plain": [
       "'/opt/anaconda/lib/python3.9/site-packages/skimage/__init__.py'"
      ]
     },
     "execution_count": 2,
     "metadata": {},
     "output_type": "execute_result"
    }
   ],
   "source": [
    "skimage.__file__"
   ]
  },
  {
   "cell_type": "code",
   "execution_count": 39,
   "id": "26c2d095-4e1e-420f-8edc-d806aecb0e18",
   "metadata": {},
   "outputs": [],
   "source": [
    "def get_gradient(im) :\n",
    "    grad_x = cv2.Sobel(im,cv2.CV_32F,1,0,ksize=3)\n",
    "    grad_y = cv2.Sobel(im,cv2.CV_32F,0,1,ksize=3)\n",
    "    grad = cv2.addWeighted(np.absolute(grad_x), 0.5, np.absolute(grad_y), 0.5, 0)\n",
    "    return grad\n",
    "def homography_calculator2(template,moving):\n",
    "    warp_mode = cv2.MOTION_HOMOGRAPHY\n",
    "    if warp_mode == cv2.MOTION_HOMOGRAPHY :\n",
    "        warp_matrix = np.eye(3, 3, dtype=np.float32)\n",
    "    criteria = (cv2.TERM_CRITERIA_EPS | cv2.TERM_CRITERIA_COUNT, 3000,  1e-3)\n",
    "    (cc, warp_matrix) = cv2.findTransformECC (get_gradient(template), get_gradient(moving),warp_matrix, warp_mode, criteria)\n",
    "    print (warp_matrix)\n",
    "    return warp_matrix"
   ]
  },
  {
   "cell_type": "code",
   "execution_count": 40,
   "id": "8ed36840-5b13-422f-b8c3-2d7b8803f14d",
   "metadata": {},
   "outputs": [],
   "source": [
    "def align_channel(chanel,M):\n",
    "    a = skimage.transform.SimilarityTransform(matrix=M)\n",
    "    return np.ma.array(warp(chanel, a, preserve_range=True,output_shape=chanel.shape, cval=-1)) \n",
    "def homography_calculator(template,moving):\n",
    "    sr = StackReg(StackReg.AFFINE)\n",
    "    moving_homography = sr.register(template,moving)\n",
    "    return moving_homography\n",
    "def generateCoefficents():\n",
    "    base_folder = \"/home/humangene/share/place2/BG\"\n",
    "    R = (cv2.imread(base_folder+\"_cR.tif\",cv2.IMREAD_UNCHANGED)[:,:-10])\n",
    "    G = (cv2.imread(base_folder+\"_cG.tif\",cv2.IMREAD_UNCHANGED)[:,:-10])\n",
    "    B = (cv2.imread(base_folder+\"_cB.tif\",cv2.IMREAD_UNCHANGED)[:,:-10])\n",
    "    coeficients = []\n",
    "    ref_mean = 40000\n",
    "    coeficients.append((1/np.mean(R,axis=0))*ref_mean)\n",
    "    coeficients.append((1/np.mean(G,axis=0))*ref_mean)\n",
    "    coeficients.append((1/np.mean(B,axis=0))*ref_mean)\n",
    "    return coeficients\n",
    "def normalize(channel):\n",
    "    a = np.quantile(channel,0.05)\n",
    "    b = np.quantile(channel,0.95)\n",
    "    alpha = 255/(b-a)\n",
    "    betha = -alpha * a\n",
    "    return channel * alpha + betha\n",
    "def noise_remove(channel,median):\n",
    "    return normalize((channel - median))\n",
    "def clipper(channel):\n",
    "    a = np.quantile(channel,0.01)\n",
    "    b = np.quantile(channel,0.99)\n",
    "    return np.clip(channel,a,b)\n",
    "def rescale(channel):\n",
    "    return channel*(255.0/pow(2,16)) "
   ]
  },
  {
   "cell_type": "code",
   "execution_count": 41,
   "id": "f0680b53-9625-436a-8150-d86d04a7b9e8",
   "metadata": {},
   "outputs": [
    {
     "name": "stdout",
     "output_type": "stream",
     "text": [
      "start\n"
     ]
    }
   ],
   "source": [
    "base_folder = \"/home/humangene/share/place2/gimmmm/\"\n",
    "coefs = generateCoefficents()\n",
    "BR_h = np.loadtxt(\"/home/humangene/share/place2/tissue11/BR_h.txt\")\n",
    "GR_h = np.loadtxt(\"/home/humangene/share/place2/tissue11/GR_h.txt\")\n",
    "\n",
    "num_lines = len(glob.glob(base_folder+\"*.tif\"))//3\n",
    "i = num_lines//2\n",
    "R = clipper(cv2.imread(base_folder+\"line_\"+str(i)+\"_c1.tif\",cv2.IMREAD_UNCHANGED)[:,:-10])\n",
    "G = clipper(cv2.imread(base_folder+\"line_\"+str(i)+\"_c2.tif\",cv2.IMREAD_UNCHANGED)[:,:-10])\n",
    "B = clipper(cv2.imread(base_folder+\"line_\"+str(i)+\"_c3.tif\",cv2.IMREAD_UNCHANGED)[:,:-10])\n",
    "# img =cv2.merge([\n",
    "#             np.clip(rescale(R)*1.7,0,255),\n",
    "#             np.clip(rescale(G)*1.64516,0,255),\n",
    "#             np.clip(rescale(B)*1.6346,0,255)\n",
    "#             ]).astype(\"uint8\")\n",
    "img = np.clip(\n",
    "         cv2.merge([\n",
    "         rescale(R*coefs[0]),\n",
    "         rescale(G*coefs[1]),\n",
    "         rescale(B*coefs[2])\n",
    "        ]),0,255).astype(\"uint8\")[5:-5,5:-10]  \n",
    "print(\"start\")\n",
    "# BR_h = homography_calculator2(img[:,:,0],img[:,:,2])\n",
    "# GR_h = homography_calculator2(img[:,:,0],img[:,:,1])\n",
    "# np.savetxt(base_folder+\"BR_h.txt\",BR_h)\n",
    "# np.savetxt(base_folder+\"GR_h.txt\",GR_h)\n",
    "\n"
   ]
  },
  {
   "cell_type": "code",
   "execution_count": 42,
   "id": "eb12e102-025a-48b9-b994-fe53fb229097",
   "metadata": {},
   "outputs": [],
   "source": [
    "img_num = 5\n",
    "R = clipper(cv2.imread(base_folder+\"line_\"+str(img_num)+\"_c1.tif\",cv2.IMREAD_UNCHANGED)[:,:-10])\n",
    "G = clipper(cv2.imread(base_folder+\"line_\"+str(img_num)+\"_c2.tif\",cv2.IMREAD_UNCHANGED)[:,:-10])\n",
    "B = clipper(cv2.imread(base_folder+\"line_\"+str(img_num)+\"_c3.tif\",cv2.IMREAD_UNCHANGED)[:,:-10])\n",
    "img = np.clip(\n",
    "     cv2.merge([\n",
    "     rescale(R*coefs[0]),\n",
    "     align_channel(rescale(G*coefs[1]),GR_h),\n",
    "     align_channel(rescale(B*coefs[2]),BR_h)\n",
    "    ]),0,255).astype(\"uint8\")[5:-5,5:-10] "
   ]
  },
  {
   "cell_type": "code",
   "execution_count": 30,
   "id": "6ef80ec9-9c1d-42ed-bc66-ec4a3569bd20",
   "metadata": {},
   "outputs": [],
   "source": [
    "tifffile.imwrite(\"../hghg.png\",img)"
   ]
  },
  {
   "cell_type": "code",
   "execution_count": 5,
   "id": "3da33b7f-c5bf-4f26-93f4-92ddb2707c8f",
   "metadata": {},
   "outputs": [],
   "source": []
  },
  {
   "cell_type": "code",
   "execution_count": 43,
   "id": "7d3d1169-65be-4cbf-8a2f-8b2dfbe25658",
   "metadata": {
    "tags": []
   },
   "outputs": [
    {
     "name": "stdout",
     "output_type": "stream",
     "text": [
      "01\n",
      "\n",
      "2\n",
      "3\n",
      "4\n",
      "5\n",
      "6\n",
      "<generator object as_completed at 0x7f8d29d6a900>\n",
      "8.232928247016389\n"
     ]
    }
   ],
   "source": [
    "images = {}\n",
    "img_nums = list(range(num_lines))\n",
    "coefs = generateCoefficents()\n",
    "contrast = 1\n",
    "def reading_images(img_num):\n",
    "    print(img_num)\n",
    "    R = clipper(cv2.imread(base_folder+\"line_\"+str(img_num)+\"_c1.tif\",cv2.IMREAD_UNCHANGED)[:,:-10])\n",
    "    G = clipper(cv2.imread(base_folder+\"line_\"+str(img_num)+\"_c2.tif\",cv2.IMREAD_UNCHANGED)[:,:-10])\n",
    "    B = clipper(cv2.imread(base_folder+\"line_\"+str(img_num)+\"_c3.tif\",cv2.IMREAD_UNCHANGED)[:,:-10])\n",
    "    #v1.....................................................\n",
    "    # images[img_num] =cv2.merge([\n",
    "    #     np.clip(rescale(clipper(R/means[0] * np.max(means[0])))*np.mean(coefs[0])*contrast*1.44,0,255),\n",
    "    #     align_channel(np.clip(rescale(clipper(G/means[1] * np.max(means[1])))*np.mean(coefs[1])*contrast*1.49,0,255),GR_h),\n",
    "    #     align_channel(np.clip(rescale(clipper(B/means[2] * np.max(means[2])))*np.mean(coefs[2])*contrast*1.4,0,255),BR_h)\n",
    "    # ]).astype(\"uint8\")[5:-5,5:-10]\n",
    "    #v2...........................................................................\n",
    "    # R = clipper(cv2.imread(base_folder+\"line_\"+str(img_num)+\"_c1.tif\",cv2.IMREAD_UNCHANGED)[:,:-10])\n",
    "    # G = clipper(cv2.imread(base_folder+\"line_\"+str(img_num)+\"_c2.tif\",cv2.IMREAD_UNCHANGED)[:,:-10])\n",
    "    # B = clipper(cv2.imread(base_folder+\"line_\"+str(img_num)+\"_c3.tif\",cv2.IMREAD_UNCHANGED)[:,:-10])\n",
    "    # R_e = rescale(R*coefs[0])\n",
    "    # G_e = align_channel(rescale(G*coefs[1]),GR_h)\n",
    "    # B_e = align_channel(rescale(B*coefs[2]),BR_h)\n",
    "    # images[img_num] =np.clip(\n",
    "    #      cv2.merge([\n",
    "    #      (R_e/np.mean(R_e,axis=0))*np.mean(R_e),\n",
    "    #      (G_e/np.mean(G_e,axis=0))*np.mean(G_e),\n",
    "    #      (B_e/np.mean(B_e,axis=0))*np.mean(B_e)\n",
    "    #     ]),0,255).astype(\"uint8\")[5:-5,5:-10]\n",
    "    #v3.............................................................................\n",
    "    images[img_num] =np.clip(\n",
    "         cv2.merge([\n",
    "         rescale(R*coefs[0]),\n",
    "         align_channel(rescale(G*coefs[1]),GR_h),\n",
    "         align_channel(rescale(B*coefs[2]),BR_h)\n",
    "        ]),0,255).astype(\"uint8\")[5:-5,5:-10]   \n",
    "     \n",
    "    del(R)\n",
    "    del(G)\n",
    "    del(B)\n",
    "    del(R_e)\n",
    "    del(G_e)\n",
    "    del(B_e)\n",
    "    gc.collect()\n",
    "    return img_num\n",
    "t1 = time.perf_counter()\n",
    "with concurrent.futures.ThreadPoolExecutor(max_workers=10) as executor:\n",
    "    results = executor.map(reading_images,img_nums)\n",
    "print(concurrent.futures.as_completed(results))\n",
    "t2 = time.perf_counter()\n",
    "print(t2-t1)"
   ]
  },
  {
   "cell_type": "code",
   "execution_count": 44,
   "id": "342b35ce-edc7-4ad2-a695-08281c8e0eb4",
   "metadata": {
    "tags": []
   },
   "outputs": [
    {
     "name": "stdout",
     "output_type": "stream",
     "text": [
      "0\n",
      "1\n",
      "2\n",
      "3\n",
      "4\n",
      "5\n"
     ]
    },
    {
     "name": "stderr",
     "output_type": "stream",
     "text": [
      "/opt/anaconda/lib/python3.9/site-packages/image_registration/fft_tools/convolve_nd.py:269: FutureWarning: Using a non-tuple sequence for multidimensional indexing is deprecated; use `arr[tuple(seq)]` instead of `arr[seq]`. In the future this will be interpreted as an array index, `arr[np.array(seq)]`, which will result either in an error or a different result.\n",
      "  bigarray[arrayslices] = array\n",
      "/opt/anaconda/lib/python3.9/site-packages/image_registration/fft_tools/convolve_nd.py:270: FutureWarning: Using a non-tuple sequence for multidimensional indexing is deprecated; use `arr[tuple(seq)]` instead of `arr[seq]`. In the future this will be interpreted as an array index, `arr[np.array(seq)]`, which will result either in an error or a different result.\n",
      "  bigkernel[kernslices] = kernel\n",
      "/opt/anaconda/lib/python3.9/site-packages/image_registration/fft_tools/convolve_nd.py:325: FutureWarning: Using a non-tuple sequence for multidimensional indexing is deprecated; use `arr[tuple(seq)]` instead of `arr[seq]`. In the future this will be interpreted as an array index, `arr[np.array(seq)]`, which will result either in an error or a different result.\n",
      "  result = rifft[arrayslices].real\n",
      "/opt/anaconda/lib/python3.9/site-packages/image_registration/fft_tools/zoom.py:101: FutureWarning: Using a non-tuple sequence for multidimensional indexing is deprecated; use `arr[tuple(seq)]` instead of `arr[seq]`. In the future this will be interpreted as an array index, `arr[np.array(seq)]`, which will result either in an error or a different result.\n",
      "  outarr[ii] = outarr_d[dims]\n"
     ]
    },
    {
     "name": "stdout",
     "output_type": "stream",
     "text": [
      "35.732421875 -16.005859375\n",
      "28.873046875 -15.142578125\n",
      "40.294921875 -14.580078125\n",
      "34.791015625 -15.099609375\n",
      "38.712890625 -16.423828125\n",
      "32.080078125 -15.580078125\n",
      "4.346871217945591\n"
     ]
    }
   ],
   "source": [
    "line_shifts = {}\n",
    "img_nums = list(range(num_lines-1))\n",
    "def process_image(img_num):\n",
    "    print(img_num)\n",
    "    right_image = images[img_num]\n",
    "    left_image = images[img_num+1]\n",
    "    min_row = min(right_image.shape[0],left_image.shape[0])\n",
    "    min_col = min(right_image.shape[1],left_image.shape[1])\n",
    "    right_image_c = right_image[:min_row,:300]\n",
    "    left_image_c = left_image[:min_row,-300:]\n",
    "    im1 = cv2.cvtColor(left_image_c, cv2.COLOR_BGR2GRAY)\n",
    "    im2 = cv2.cvtColor(right_image_c, cv2.COLOR_BGR2GRAY)\n",
    "    yoff,xoff ,yer,xer= image_registration.chi2_shift(im1,im2,0.1)\n",
    "    print(yoff,xoff)\n",
    "    if yoff > 30  and xoff<0:  \n",
    "        line_shifts[(img_num,img_num+1)] = (int(yoff),int(-1*xoff))\n",
    "t1 = time.perf_counter()\n",
    "with concurrent.futures.ThreadPoolExecutor(max_workers = 20) as executor:\n",
    "    results = list(executor.map(process_image,img_nums))\n",
    "concurrent.futures.as_completed(results)\n",
    "t2 = time.perf_counter()\n",
    "print(t2-t1)"
   ]
  },
  {
   "cell_type": "code",
   "execution_count": 45,
   "id": "691986f9-879f-42e8-a081-9afccc77d707",
   "metadata": {},
   "outputs": [],
   "source": [
    "if len(line_shifts.keys())>0:  \n",
    "    ysum = 0\n",
    "    xsum = 0\n",
    "    for key in line_shifts.keys():\n",
    "        ysum+=line_shifts[key][0]\n",
    "        xsum+=line_shifts[key][1]\n",
    "    y_m = ysum//len(line_shifts.keys())\n",
    "    x_m = xsum//len(line_shifts.keys())\n",
    "    for i in range(num_lines - 1):\n",
    "        if not((i,i+1) in line_shifts.keys()):\n",
    "            line_shifts[(i,i+1)] = (y_m,x_m)\n",
    "else:\n",
    "    for i in range(num_lines - 1):\n",
    "        line_shifts[(i,i+1)] = (0,0)\n",
    "        "
   ]
  },
  {
   "cell_type": "code",
   "execution_count": 46,
   "id": "0f2060b7-d80a-49b5-9d04-d444ff50bb6b",
   "metadata": {},
   "outputs": [],
   "source": [
    "sum_x = 0\n",
    "sum_y = 0\n",
    "for key , value in line_shifts.items():\n",
    "    sum_x+=value[1]\n",
    "    sum_y+=value[0]"
   ]
  },
  {
   "cell_type": "code",
   "execution_count": 47,
   "id": "8fb5c87c-3643-4ac6-8727-cb0fc8296d29",
   "metadata": {},
   "outputs": [
    {
     "name": "stdout",
     "output_type": "stream",
     "text": [
      "6\n",
      "5\n",
      "4\n",
      "3\n",
      "2\n",
      "1\n",
      "0\n"
     ]
    }
   ],
   "source": [
    "valid_list = []\n",
    "for key , value in line_shifts.items():\n",
    "    valid_list.append(key[1])\n",
    "    \n",
    "yoff_sum = 0\n",
    "xoff_sum = 0\n",
    "tempelate = images[0]\n",
    "max_tot_row = tempelate.shape[0]\n",
    "max_tot_col = tempelate.shape[1]\n",
    "for val in line_shifts.values():\n",
    "    yoff_sum+=val[0]\n",
    "    xoff_sum+=val[1]\n",
    "img_shape = (max_tot_row,max_tot_col,3)\n",
    "mid = (int(img_shape[0]/2),int(img_shape[1]/2))\n",
    "row_numbers = img_shape[0]\n",
    "tot = np.zeros((row_numbers+xoff_sum,img_shape[1]*num_lines - yoff_sum,3),dtype = np.uint8)\n",
    "last_row_index = tot.shape[0]\n",
    "last_col_index = tot.shape[1] \n",
    "valid_range = [last_row_index,last_row_index]\n",
    "for i in range(num_lines):\n",
    "    indx = num_lines - i-1\n",
    "    print(indx)\n",
    "    if i in valid_list:\n",
    "        middle_img = images[i]\n",
    "        img_shape = (middle_img.shape[0],middle_img.shape[1],3)\n",
    "        row_numbers = middle_img.shape[0]\n",
    "        yshift,xshift = line_shifts[(i - 1,i)]\n",
    "        tot[last_row_index-row_numbers - xshift:last_row_index-xshift,last_col_index-img_shape[1]+yshift:last_col_index+yshift,:] = middle_img\n",
    "        valid_range[0] = last_row_index-row_numbers\n",
    "        valid_range[1] = last_row_index+xshift\n",
    "        last_row_index = last_row_index-xshift\n",
    "        last_col_index = last_col_index-img_shape[1]+yshift\n",
    "    else:\n",
    "        middle_img = images[i]\n",
    "        tot[last_row_index-middle_img.shape[0]:last_row_index,last_col_index-middle_img.shape[1]:last_col_index,:] = middle_img\n",
    "        valid_range[0] = last_row_index-middle_img.shape[0]\n",
    "        valid_range[1] = last_row_index\n",
    "        \n",
    "        last_row_index = last_row_index\n",
    "        last_col_index = last_col_index - middle_img.shape[1]"
   ]
  },
  {
   "cell_type": "code",
   "execution_count": 48,
   "id": "0958fa70-a028-4066-8763-e6fe904228be",
   "metadata": {},
   "outputs": [],
   "source": [
    "tot = tot[sum_y:-sum_y]"
   ]
  },
  {
   "cell_type": "code",
   "execution_count": 49,
   "id": "5d492213-386e-4e02-8a52-4f157137d9ee",
   "metadata": {},
   "outputs": [],
   "source": [
    "# R = (tot[:,:,0]/np.mean(tot[:,:,0],axis=0))*200\n",
    "# G = (tot[:,:,1]/np.mean(tot[:,:,1],axis=0))*200\n",
    "# B = (tot[:,:,2]/np.mean(tot[:,:,2],axis=0))*200"
   ]
  },
  {
   "cell_type": "code",
   "execution_count": 50,
   "id": "4ed34b07-5e77-4974-a11b-d46040ca9230",
   "metadata": {},
   "outputs": [],
   "source": [
    "tifffile.imwrite(\"/home/humangene/Desktop/place2_tisuue.tif\",tot)"
   ]
  },
  {
   "cell_type": "code",
   "execution_count": null,
   "id": "d296b84a-d1d6-4f15-90f1-171723a2e5c6",
   "metadata": {},
   "outputs": [],
   "source": [
    "p1 = images[11][:,:504]\n",
    "line1 = images[11][:,504:508]\n",
    "p2 = images[11][:,508:1015]\n",
    "line2 = images[11][:,1015:1020]\n",
    "p3 = images[11][:,1020:1529]\n",
    "line3 =images[11][:,1530:1532]\n",
    "p4 =images[11][:,1532:]\n",
    "whole = images[11][:,:]"
   ]
  },
  {
   "cell_type": "code",
   "execution_count": 56,
   "id": "341a3d3a-272a-4a25-93c6-b7031ff542e7",
   "metadata": {},
   "outputs": [],
   "source": [
    "def smooth (array , kernel_size):\n",
    "    smoothed = np.zeros((array.shape[0]))\n",
    "    for i in range(array.shape[0]):\n",
    "        if i == 0 :\n",
    "            smoothed[i] = array[i]\n",
    "        elif i<kernel_size - 1:\n",
    "            smoothed[i] = np.mean(array[:i+1])\n",
    "        elif i>array.shape[0] - kernel_size:\n",
    "            smoothed[i] = np.mean(array[i:])\n",
    "        else:\n",
    "            smoothed[i] = np.mean(array[i:i+kernel_size])\n",
    "    return smoothed"
   ]
  },
  {
   "cell_type": "code",
   "execution_count": 144,
   "id": "8e6d36db-9220-4fd5-b157-8d7d629b5412",
   "metadata": {},
   "outputs": [],
   "source": [
    "base_folder = \"/home/humangene/share/NEW_IR_color/3/\"\n",
    "i = 1\n",
    "R = cv2.imread(base_folder+\"line_\"+str(i)+\"_c1.tif\",cv2.IMREAD_UNCHANGED)[:,:-10]\n",
    "G = cv2.imread(base_folder+\"line_\"+str(i)+\"_c2.tif\",cv2.IMREAD_UNCHANGED)[:,:-10]\n",
    "B = cv2.imread(base_folder+\"line_\"+str(i)+\"_c3.tif\",cv2.IMREAD_UNCHANGED)[:,:-10]\n",
    "\n",
    "i = 0\n",
    "R_s = cv2.imread(base_folder+\"line_\"+str(i)+\"_c1.tif\",cv2.IMREAD_UNCHANGED)[:,:-10]\n",
    "G_s = cv2.imread(base_folder+\"line_\"+str(i)+\"_c2.tif\",cv2.IMREAD_UNCHANGED)[:,:-10]\n",
    "B_s = cv2.imread(base_folder+\"line_\"+str(i)+\"_c3.tif\",cv2.IMREAD_UNCHANGED)[:,:-10]\n",
    "\n",
    "base_folder = \"/home/humangene/share/NEW_IR_color/bg/BG\"\n",
    "bR = cv2.imread(base_folder+\"_cR.tif\",cv2.IMREAD_UNCHANGED)[:,:-10]\n",
    "bG = cv2.imread(base_folder+\"_cG.tif\",cv2.IMREAD_UNCHANGED)[:,:-10]\n",
    "bB = cv2.imread(base_folder+\"_cB.tif\",cv2.IMREAD_UNCHANGED)[:,:-10]\n",
    "\n",
    "R = clipper(R)\n",
    "G = clipper(G)\n",
    "B = clipper(B)"
   ]
  },
  {
   "cell_type": "code",
   "execution_count": 136,
   "id": "70577096-1614-47c7-8b31-816418842dd2",
   "metadata": {},
   "outputs": [],
   "source": [
    "div_r = np.mean(R,axis=0)\n",
    "div_g = np.mean(G,axis=0)\n",
    "div_b = np.mean(B,axis=0)"
   ]
  },
  {
   "cell_type": "code",
   "execution_count": 137,
   "id": "2fbc4b34-36e6-490e-a667-a67c291deca4",
   "metadata": {},
   "outputs": [
    {
     "data": {
      "text/plain": [
       "[<matplotlib.lines.Line2D at 0x7f208ebe2910>]"
      ]
     },
     "execution_count": 137,
     "metadata": {},
     "output_type": "execute_result"
    },
    {
     "data": {
      "image/png": "[encoded data removed]",
      "text/plain": [
       "<Figure size 432x288 with 1 Axes>"
      ]
     },
     "metadata": {
      "needs_background": "light"
     },
     "output_type": "display_data"
    }
   ],
   "source": [
    "plt.plot(div_r)"
   ]
  },
  {
   "cell_type": "code",
   "execution_count": 177,
   "id": "09d725b5-1983-4896-b480-2553e647c667",
   "metadata": {},
   "outputs": [],
   "source": [
    "coefs = generateCoefficents()\n",
    "contrast = 1\n",
    "R_img = rescale(R*coefs[0])\n",
    "G_img = rescale(G*coefs[1])\n",
    "B_img = rescale(B*coefs[2])\n",
    "R_img2 = (R_img/np.mean(R_img,axis=0))*np.mean(R_img)\n",
    "G_img2 = (G_img/np.mean(G_img,axis=0))*np.mean(G_img)\n",
    "B_img2 = (B_img/np.mean(B_img,axis=0))*np.mean(B_img)"
   ]
  },
  {
   "cell_type": "code",
   "execution_count": 178,
   "id": "087339ab-1877-4a52-9ca8-540abb7acd69",
   "metadata": {},
   "outputs": [
    {
     "data": {
      "text/plain": [
       "True"
      ]
     },
     "execution_count": 178,
     "metadata": {},
     "output_type": "execute_result"
    }
   ],
   "source": [
    "cv2.imwrite(\"../oo.png\",cv2.merge([B_img2,G_img2,R_img2]))"
   ]
  },
  {
   "cell_type": "code",
   "execution_count": 157,
   "id": "7f585644-de65-4665-8585-2bd5dffe5f28",
   "metadata": {},
   "outputs": [
    {
     "data": {
      "image/png": "[encoded data removed]",
      "text/plain": [
       "<Figure size 432x288 with 1 Axes>"
      ]
     },
     "metadata": {
      "needs_background": "light"
     },
     "output_type": "display_data"
    }
   ],
   "source": [
    "# R_img2 = (R_img - np.median(R_img,axis=0)) +np.max(np.median(R_img))\n",
    "# G_img2 = (G_img - np.median(G_img,axis=0)) +np.max(np.median(G_img))\n",
    "# B_img2 = (B_img - np.median(B_img,axis=0)) +np.max(np.median(B_img))\n",
    "show_col_dis(R_img2,G_img2,B_img2)"
   ]
  },
  {
   "cell_type": "code",
   "execution_count": 154,
   "id": "2df5e81d-3e13-47fc-939c-cfe00380738c",
   "metadata": {},
   "outputs": [
    {
     "data": {
      "text/plain": [
       "True"
      ]
     },
     "execution_count": 154,
     "metadata": {},
     "output_type": "execute_result"
    }
   ],
   "source": [
    "cv2.imwrite(\"../llkk.png\",cv2.merge([B_img2,G_img2,R_img2]))"
   ]
  },
  {
   "cell_type": "code",
   "execution_count": 110,
   "id": "153377e2-442b-45ca-a5de-37e0f04a08b4",
   "metadata": {},
   "outputs": [
    {
     "data": {
      "image/png": "[encoded data removed]",
      "text/plain": [
       "<Figure size 432x288 with 1 Axes>"
      ]
     },
     "metadata": {
      "needs_background": "light"
     },
     "output_type": "display_data"
    }
   ],
   "source": [
    "show_col_dis(img_test[:,:,0],img_test[:,:,1],img_test[:,:,2])"
   ]
  },
  {
   "cell_type": "code",
   "execution_count": 120,
   "id": "925fa6ee-f6bf-4a95-be66-dab7b1dc9058",
   "metadata": {},
   "outputs": [],
   "source": [
    "R = images[1][:,:,0]\n",
    "G = images[1][:,:,1]\n",
    "B = images[1][:,:,2]"
   ]
  },
  {
   "cell_type": "code",
   "execution_count": 121,
   "id": "56177ca6-8482-45db-ad52-0e3a9036ba37",
   "metadata": {},
   "outputs": [],
   "source": [
    "def show_col_dis(R,G,B):\n",
    "    plt.plot(np.mean(R,axis=0),color = \"red\")\n",
    "    plt.plot(np.mean(G,axis=0),color = \"green\")\n",
    "    plt.plot(np.mean(B,axis=0),color = \"blue\")\n"
   ]
  },
  {
   "cell_type": "code",
   "execution_count": 122,
   "id": "cc937561-89f5-4679-a2a5-53ae3beda804",
   "metadata": {},
   "outputs": [
    {
     "data": {
      "image/png": "[encoded data removed]",
      "text/plain": [
       "<Figure size 432x288 with 1 Axes>"
      ]
     },
     "metadata": {
      "needs_background": "light"
     },
     "output_type": "display_data"
    }
   ],
   "source": [
    "show_col_dis(images[0][:,:,0],images[0][:,:,1],images[0][:,:,2])"
   ]
  },
  {
   "cell_type": "code",
   "execution_count": 308,
   "id": "423c9513-976a-4314-bc03-ded9fae8bb29",
   "metadata": {},
   "outputs": [],
   "source": [
    "tifffile.imwrite(\"../llllll.png\",img.astype(\"uint8\"))"
   ]
  },
  {
   "cell_type": "code",
   "execution_count": 44,
   "id": "16a20854-a136-4f5d-b399-59c2cdb8cfd7",
   "metadata": {},
   "outputs": [
    {
     "data": {
      "text/plain": [
       "True"
      ]
     },
     "execution_count": 44,
     "metadata": {},
     "output_type": "execute_result"
    }
   ],
   "source": [
    "cv2.imwrite(\"../llllkkkkkkk.png\",cv2.merge([b_trans,g_trans,r_trans]))"
   ]
  },
  {
   "cell_type": "code",
   "execution_count": 35,
   "id": "810259c4-24cc-47b1-8aab-0b090b0e6ad7",
   "metadata": {},
   "outputs": [
    {
     "data": {
      "text/plain": [
       "14592.0"
      ]
     },
     "execution_count": 35,
     "metadata": {},
     "output_type": "execute_result"
    }
   ],
   "source": [
    "rgb_fft.shape[0]/2"
   ]
  },
  {
   "cell_type": "code",
   "execution_count": 27,
   "id": "fafb89ab-3465-48a8-8e1b-d98721d79e3d",
   "metadata": {},
   "outputs": [
    {
     "ename": "TypeError",
     "evalue": "Image data of dtype complex128 cannot be converted to float",
     "output_type": "error",
     "traceback": [
      "\u001b[0;31m---------------------------------------------------------------------------\u001b[0m",
      "\u001b[0;31mTypeError\u001b[0m                                 Traceback (most recent call last)",
      "\u001b[0;32m/tmp/ipykernel_650425/737757405.py\u001b[0m in \u001b[0;36m<cell line: 1>\u001b[0;34m()\u001b[0m\n\u001b[0;32m----> 1\u001b[0;31m \u001b[0mplt\u001b[0m\u001b[0;34m.\u001b[0m\u001b[0mimshow\u001b[0m\u001b[0;34m(\u001b[0m\u001b[0mrgb_fft\u001b[0m\u001b[0;34m)\u001b[0m\u001b[0;34m\u001b[0m\u001b[0;34m\u001b[0m\u001b[0m\n\u001b[0m",
      "\u001b[0;32m/opt/anaconda/lib/python3.9/site-packages/matplotlib/_api/deprecation.py\u001b[0m in \u001b[0;36mwrapper\u001b[0;34m(*args, **kwargs)\u001b[0m\n\u001b[1;32m    454\u001b[0m                 \u001b[0;34m\"parameter will become keyword-only %(removal)s.\"\u001b[0m\u001b[0;34m,\u001b[0m\u001b[0;34m\u001b[0m\u001b[0;34m\u001b[0m\u001b[0m\n\u001b[1;32m    455\u001b[0m                 name=name, obj_type=f\"parameter of {func.__name__}()\")\n\u001b[0;32m--> 456\u001b[0;31m         \u001b[0;32mreturn\u001b[0m \u001b[0mfunc\u001b[0m\u001b[0;34m(\u001b[0m\u001b[0;34m*\u001b[0m\u001b[0margs\u001b[0m\u001b[0;34m,\u001b[0m \u001b[0;34m**\u001b[0m\u001b[0mkwargs\u001b[0m\u001b[0;34m)\u001b[0m\u001b[0;34m\u001b[0m\u001b[0;34m\u001b[0m\u001b[0m\n\u001b[0m\u001b[1;32m    457\u001b[0m \u001b[0;34m\u001b[0m\u001b[0m\n\u001b[1;32m    458\u001b[0m     \u001b[0;31m# Don't modify *func*'s signature, as boilerplate.py needs it.\u001b[0m\u001b[0;34m\u001b[0m\u001b[0;34m\u001b[0m\u001b[0m\n",
      "\u001b[0;32m/opt/anaconda/lib/python3.9/site-packages/matplotlib/pyplot.py\u001b[0m in \u001b[0;36mimshow\u001b[0;34m(X, cmap, norm, aspect, interpolation, alpha, vmin, vmax, origin, extent, interpolation_stage, filternorm, filterrad, resample, url, data, **kwargs)\u001b[0m\n\u001b[1;32m   2638\u001b[0m         \u001b[0minterpolation_stage\u001b[0m\u001b[0;34m=\u001b[0m\u001b[0;32mNone\u001b[0m\u001b[0;34m,\u001b[0m \u001b[0mfilternorm\u001b[0m\u001b[0;34m=\u001b[0m\u001b[0;32mTrue\u001b[0m\u001b[0;34m,\u001b[0m \u001b[0mfilterrad\u001b[0m\u001b[0;34m=\u001b[0m\u001b[0;36m4.0\u001b[0m\u001b[0;34m,\u001b[0m\u001b[0;34m\u001b[0m\u001b[0;34m\u001b[0m\u001b[0m\n\u001b[1;32m   2639\u001b[0m         resample=None, url=None, data=None, **kwargs):\n\u001b[0;32m-> 2640\u001b[0;31m     __ret = gca().imshow(\n\u001b[0m\u001b[1;32m   2641\u001b[0m         \u001b[0mX\u001b[0m\u001b[0;34m,\u001b[0m \u001b[0mcmap\u001b[0m\u001b[0;34m=\u001b[0m\u001b[0mcmap\u001b[0m\u001b[0;34m,\u001b[0m \u001b[0mnorm\u001b[0m\u001b[0;34m=\u001b[0m\u001b[0mnorm\u001b[0m\u001b[0;34m,\u001b[0m \u001b[0maspect\u001b[0m\u001b[0;34m=\u001b[0m\u001b[0maspect\u001b[0m\u001b[0;34m,\u001b[0m\u001b[0;34m\u001b[0m\u001b[0;34m\u001b[0m\u001b[0m\n\u001b[1;32m   2642\u001b[0m         \u001b[0minterpolation\u001b[0m\u001b[0;34m=\u001b[0m\u001b[0minterpolation\u001b[0m\u001b[0;34m,\u001b[0m \u001b[0malpha\u001b[0m\u001b[0;34m=\u001b[0m\u001b[0malpha\u001b[0m\u001b[0;34m,\u001b[0m \u001b[0mvmin\u001b[0m\u001b[0;34m=\u001b[0m\u001b[0mvmin\u001b[0m\u001b[0;34m,\u001b[0m\u001b[0;34m\u001b[0m\u001b[0;34m\u001b[0m\u001b[0m\n",
      "\u001b[0;32m/opt/anaconda/lib/python3.9/site-packages/matplotlib/_api/deprecation.py\u001b[0m in \u001b[0;36mwrapper\u001b[0;34m(*args, **kwargs)\u001b[0m\n\u001b[1;32m    454\u001b[0m                 \u001b[0;34m\"parameter will become keyword-only %(removal)s.\"\u001b[0m\u001b[0;34m,\u001b[0m\u001b[0;34m\u001b[0m\u001b[0;34m\u001b[0m\u001b[0m\n\u001b[1;32m    455\u001b[0m                 name=name, obj_type=f\"parameter of {func.__name__}()\")\n\u001b[0;32m--> 456\u001b[0;31m         \u001b[0;32mreturn\u001b[0m \u001b[0mfunc\u001b[0m\u001b[0;34m(\u001b[0m\u001b[0;34m*\u001b[0m\u001b[0margs\u001b[0m\u001b[0;34m,\u001b[0m \u001b[0;34m**\u001b[0m\u001b[0mkwargs\u001b[0m\u001b[0;34m)\u001b[0m\u001b[0;34m\u001b[0m\u001b[0;34m\u001b[0m\u001b[0m\n\u001b[0m\u001b[1;32m    457\u001b[0m \u001b[0;34m\u001b[0m\u001b[0m\n\u001b[1;32m    458\u001b[0m     \u001b[0;31m# Don't modify *func*'s signature, as boilerplate.py needs it.\u001b[0m\u001b[0;34m\u001b[0m\u001b[0;34m\u001b[0m\u001b[0m\n",
      "\u001b[0;32m/opt/anaconda/lib/python3.9/site-packages/matplotlib/__init__.py\u001b[0m in \u001b[0;36minner\u001b[0;34m(ax, data, *args, **kwargs)\u001b[0m\n\u001b[1;32m   1410\u001b[0m     \u001b[0;32mdef\u001b[0m \u001b[0minner\u001b[0m\u001b[0;34m(\u001b[0m\u001b[0max\u001b[0m\u001b[0;34m,\u001b[0m \u001b[0;34m*\u001b[0m\u001b[0margs\u001b[0m\u001b[0;34m,\u001b[0m \u001b[0mdata\u001b[0m\u001b[0;34m=\u001b[0m\u001b[0;32mNone\u001b[0m\u001b[0;34m,\u001b[0m \u001b[0;34m**\u001b[0m\u001b[0mkwargs\u001b[0m\u001b[0;34m)\u001b[0m\u001b[0;34m:\u001b[0m\u001b[0;34m\u001b[0m\u001b[0;34m\u001b[0m\u001b[0m\n\u001b[1;32m   1411\u001b[0m         \u001b[0;32mif\u001b[0m \u001b[0mdata\u001b[0m \u001b[0;32mis\u001b[0m \u001b[0;32mNone\u001b[0m\u001b[0;34m:\u001b[0m\u001b[0;34m\u001b[0m\u001b[0;34m\u001b[0m\u001b[0m\n\u001b[0;32m-> 1412\u001b[0;31m             \u001b[0;32mreturn\u001b[0m \u001b[0mfunc\u001b[0m\u001b[0;34m(\u001b[0m\u001b[0max\u001b[0m\u001b[0;34m,\u001b[0m \u001b[0;34m*\u001b[0m\u001b[0mmap\u001b[0m\u001b[0;34m(\u001b[0m\u001b[0msanitize_sequence\u001b[0m\u001b[0;34m,\u001b[0m \u001b[0margs\u001b[0m\u001b[0;34m)\u001b[0m\u001b[0;34m,\u001b[0m \u001b[0;34m**\u001b[0m\u001b[0mkwargs\u001b[0m\u001b[0;34m)\u001b[0m\u001b[0;34m\u001b[0m\u001b[0;34m\u001b[0m\u001b[0m\n\u001b[0m\u001b[1;32m   1413\u001b[0m \u001b[0;34m\u001b[0m\u001b[0m\n\u001b[1;32m   1414\u001b[0m         \u001b[0mbound\u001b[0m \u001b[0;34m=\u001b[0m \u001b[0mnew_sig\u001b[0m\u001b[0;34m.\u001b[0m\u001b[0mbind\u001b[0m\u001b[0;34m(\u001b[0m\u001b[0max\u001b[0m\u001b[0;34m,\u001b[0m \u001b[0;34m*\u001b[0m\u001b[0margs\u001b[0m\u001b[0;34m,\u001b[0m \u001b[0;34m**\u001b[0m\u001b[0mkwargs\u001b[0m\u001b[0;34m)\u001b[0m\u001b[0;34m\u001b[0m\u001b[0;34m\u001b[0m\u001b[0m\n",
      "\u001b[0;32m/opt/anaconda/lib/python3.9/site-packages/matplotlib/axes/_axes.py\u001b[0m in \u001b[0;36mimshow\u001b[0;34m(self, X, cmap, norm, aspect, interpolation, alpha, vmin, vmax, origin, extent, interpolation_stage, filternorm, filterrad, resample, url, **kwargs)\u001b[0m\n\u001b[1;32m   5486\u001b[0m                               **kwargs)\n\u001b[1;32m   5487\u001b[0m \u001b[0;34m\u001b[0m\u001b[0m\n\u001b[0;32m-> 5488\u001b[0;31m         \u001b[0mim\u001b[0m\u001b[0;34m.\u001b[0m\u001b[0mset_data\u001b[0m\u001b[0;34m(\u001b[0m\u001b[0mX\u001b[0m\u001b[0;34m)\u001b[0m\u001b[0;34m\u001b[0m\u001b[0;34m\u001b[0m\u001b[0m\n\u001b[0m\u001b[1;32m   5489\u001b[0m         \u001b[0mim\u001b[0m\u001b[0;34m.\u001b[0m\u001b[0mset_alpha\u001b[0m\u001b[0;34m(\u001b[0m\u001b[0malpha\u001b[0m\u001b[0;34m)\u001b[0m\u001b[0;34m\u001b[0m\u001b[0;34m\u001b[0m\u001b[0m\n\u001b[1;32m   5490\u001b[0m         \u001b[0;32mif\u001b[0m \u001b[0mim\u001b[0m\u001b[0;34m.\u001b[0m\u001b[0mget_clip_path\u001b[0m\u001b[0;34m(\u001b[0m\u001b[0;34m)\u001b[0m \u001b[0;32mis\u001b[0m \u001b[0;32mNone\u001b[0m\u001b[0;34m:\u001b[0m\u001b[0;34m\u001b[0m\u001b[0;34m\u001b[0m\u001b[0m\n",
      "\u001b[0;32m/opt/anaconda/lib/python3.9/site-packages/matplotlib/image.py\u001b[0m in \u001b[0;36mset_data\u001b[0;34m(self, A)\u001b[0m\n\u001b[1;32m    704\u001b[0m         if (self._A.dtype != np.uint8 and\n\u001b[1;32m    705\u001b[0m                 not np.can_cast(self._A.dtype, float, \"same_kind\")):\n\u001b[0;32m--> 706\u001b[0;31m             raise TypeError(\"Image data of dtype {} cannot be converted to \"\n\u001b[0m\u001b[1;32m    707\u001b[0m                             \"float\".format(self._A.dtype))\n\u001b[1;32m    708\u001b[0m \u001b[0;34m\u001b[0m\u001b[0m\n",
      "\u001b[0;31mTypeError\u001b[0m: Image data of dtype complex128 cannot be converted to float"
     ]
    },
    {
     "data": {
      "image/png": "[encoded data removed]",
      "text/plain": [
       "<Figure size 432x288 with 1 Axes>"
      ]
     },
     "metadata": {
      "needs_background": "light"
     },
     "output_type": "display_data"
    }
   ],
   "source": [
    "plt.imshow(rgb_fft)"
   ]
  },
  {
   "cell_type": "code",
   "execution_count": null,
   "id": "a0a827e3-5b80-4078-8a26-7419a6817811",
   "metadata": {},
   "outputs": [],
   "source": []
  }
 ],
 "metadata": {
  "kernelspec": {
   "display_name": "Python 3 (ipykernel)",
   "language": "python",
   "name": "python3"
  },
  "language_info": {
   "codemirror_mode": {
    "name": "ipython",
    "version": 3
   },
   "file_extension": ".py",
   "mimetype": "text/x-python",
   "name": "python",
   "nbconvert_exporter": "python",
   "pygments_lexer": "ipython3",
   "version": "3.9.12"
  }
 },
 "nbformat": 4,
 "nbformat_minor": 5
}
